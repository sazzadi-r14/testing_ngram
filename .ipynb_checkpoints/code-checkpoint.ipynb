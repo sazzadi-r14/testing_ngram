{
 "cells": [
  {
   "cell_type": "markdown",
   "id": "f969186c-df4c-4b14-ab50-96bf5e3529d0",
   "metadata": {},
   "source": [
    "# Generating Bangla Sentences using Ngrams"
   ]
  },
  {
   "cell_type": "markdown",
   "id": "39dbe629-55fe-4f61-87e3-3aa09fe7dc02",
   "metadata": {},
   "source": [
    "##### Importing all the important modules"
   ]
  },
  {
   "cell_type": "code",
   "execution_count": 1,
   "id": "a09888bc-1da2-4cbb-8785-943a74c65ec0",
   "metadata": {
    "tags": []
   },
   "outputs": [],
   "source": [
    "import sys\n",
    "import sets\n",
    "import random"
   ]
  },
  {
   "cell_type": "markdown",
   "id": "2738849c-f84d-4c49-991c-dc6b0227bd56",
   "metadata": {},
   "source": [
    "##### This cell makes a string of all the texts from the file"
   ]
  },
  {
   "cell_type": "code",
   "execution_count": 2,
   "id": "8f59eda2-4c45-46be-b358-1d19b59f8865",
   "metadata": {},
   "outputs": [],
   "source": [
    "txt = \"\"\n",
    "with open(\"data.txt\", encoding = 'utf-8') as f:  # We Have to use the encdoign argument, or else it does not recognize Bangla\n",
    "    for line in f:\n",
    "        # Strips the line brekas from the end of the lines\n",
    "        line = line.strip()  \n",
    "        # Concatenates the line to the txt string\n",
    "        txt += line + ' '  "
   ]
  },
  {
   "cell_type": "markdown",
   "id": "39b9993e-e93f-45b2-a3b6-75340a92b0ad",
   "metadata": {},
   "source": [
    "##### This cell cleans up all the punctuation, english word, and grabage space from the string."
   ]
  },
  {
   "cell_type": "code",
   "execution_count": 3,
   "id": "09ac9723-d98b-4ad9-b5af-5325abfb6cdf",
   "metadata": {},
   "outputs": [
    {
     "name": "stdout",
     "output_type": "stream",
     "text": [
      "139001\n"
     ]
    }
   ],
   "source": [
    "# A string of everything we want to omit\n",
    "punc = \"aAbBcCdDeEfFgGhHiIjJkKlLmMnNoOpPqQrRsStTuUvVwWxXyYzZ,!?;।:—:--/\"  \n",
    "\n",
    "# Loop through the entire string and omits the garbage values\n",
    "for ch in txt:  \n",
    "    if ch in punc:\n",
    "        txt = txt.replace(ch, \"\")\n",
    "\n",
    "# Makes a list of all the words\n",
    "txtlst = txt.split(\" \")  \n",
    "\n",
    "# Gets rid of all the garbage spaces in the list\n",
    "for elem in txtlst:  \n",
    "    if elem == '':\n",
    "        txtlst.remove(elem)\n",
    "        \n",
    "print(len(txtlst))"
   ]
  },
  {
   "cell_type": "markdown",
   "id": "849bb908-06b1-4a6c-a81f-64f9c5d194fe",
   "metadata": {},
   "source": [
    "##### This cell converts the list into a set of Gram-1. The main purpose of this is to erdicate duplicates."
   ]
  },
  {
   "cell_type": "code",
   "execution_count": 4,
   "id": "1625aed7-bfc9-45dd-bed9-86ca6081a512",
   "metadata": {},
   "outputs": [
    {
     "name": "stdout",
     "output_type": "stream",
     "text": [
      "16652\n",
      "পাশার মতই\n",
      "মতই অনুভূতি\n",
      "অনুভূতি হচ্ছে\n",
      "হচ্ছে এবং\n",
      "এবং আমার\n",
      "আমার জন্য\n",
      "জন্য সেটাই\n",
      "সেটাই যথেষ্ট\n",
      "যথেষ্ট \n"
     ]
    }
   ],
   "source": [
    "# Creates a set of all the words, and removes the duplicates.\n",
    "gram1 = set(txtlst)  \n",
    "print(len(gram1))\n",
    "\n",
    "# Testing out the list to build pairs by printing copies. \n",
    "for i in range(len(txtlst) - 10, len(txtlst) - 1):\n",
    "    print(txtlst[i], txtlst[i + 1])"
   ]
  },
  {
   "cell_type": "markdown",
   "id": "77b4ca83-95ba-48fe-99dd-e91061093ad7",
   "metadata": {},
   "source": [
    "##### This cell use to make 2Grams in an analogous manner"
   ]
  },
  {
   "cell_type": "code",
   "execution_count": 5,
   "id": "dc3a09fb-b0fa-419a-812a-964c326cd143",
   "metadata": {},
   "outputs": [
    {
     "name": "stdout",
     "output_type": "stream",
     "text": [
      "139000\n"
     ]
    }
   ],
   "source": [
    "# Declaring an empty list to use later.\n",
    "word_pairs = []  \n",
    "\n",
    "# Loops through the entire list and returns a list of tuples containing consecutive pairs\n",
    "for i in range(len(txtlst) - 1):  \n",
    "    word_pairs.append((txtlst[i], txtlst[i + 1]))\n",
    "print(len(word_pairs))\n",
    "\n",
    "# Creating a set to remove the duplicates.\n",
    "gram2 = set(word_pairs)  "
   ]
  },
  {
   "cell_type": "markdown",
   "id": "6e34b306-d911-45ea-823c-fcf257ef81db",
   "metadata": {},
   "source": [
    "##### This cell used to make frequency dictionary from 1-Grams."
   ]
  },
  {
   "cell_type": "code",
   "execution_count": 6,
   "id": "9413846f-ed69-4afc-b3bd-59901b6c59e0",
   "metadata": {},
   "outputs": [
    {
     "name": "stdout",
     "output_type": "stream",
     "text": [
      "[('না', 2482), ('করে', 1706), ('মুসা', 1308), ('বলল', 1209), ('আর', 1058), ('কিশোর', 1046), ('একটা', 975), ('থেকে', 930), ('দিকে', 890), ('করল', 824), ('দিয়ে', 810), ('গেল', 796), ('রবিন', 778), ('আমার', 771), ('হয়ে', 709), ('আমি', 657), ('কি', 615), ('ও', 605), ('দিল', 577), ('আছে', 577)]\n"
     ]
    }
   ],
   "source": [
    "# Declaring an empty dictionary to use later.\n",
    "gram1_dict = {}  \n",
    "\n",
    "# Loops through the list and creates a frequency map of all the words\n",
    "for word in txtlst:  \n",
    "    if word not in gram1_dict:\n",
    "        gram1_dict[word] = 0\n",
    "    gram1_dict[word] += 1 \n",
    "\n",
    "# Using list comprehension to sort the list in descending order of highest frequency\n",
    "gram1_dict = sorted(gram1_dict.items(), key=lambda x: x[1], reverse=True)  \n",
    "print(gram1_dict[:20])"
   ]
  },
  {
   "cell_type": "markdown",
   "id": "e703740c-03e4-4ca3-9876-7a0812dd6926",
   "metadata": {},
   "source": [
    "##### This cell is used to make frequency dictionary of 2-Grams."
   ]
  },
  {
   "cell_type": "code",
   "execution_count": 7,
   "id": "7f8848e1-2998-442f-a261-2f2ced57af7f",
   "metadata": {},
   "outputs": [
    {
     "name": "stdout",
     "output_type": "stream",
     "text": [
      "[(('বলল', 'কিশোর'), 160), (('শুরু', 'করল'), 155), (('বলল', 'মুসা'), 152), (('জিজ্ঞেস', 'করল'), 130), (('দিকে', 'তাকিয়ে'), 122), (('বলল', 'রবিন'), 122), (('হয়ে', 'গেল'), 113), (('হয়ে', 'গেছে'), 112), (('মনে', 'হলো'), 104), (('মিস্টার', 'সেভারন'), 93), (('মনে', 'হয়'), 91), (('আমার', 'দিকে'), 86), (('জবাব', 'দিল'), 85), (('বের', 'করে'), 84), (('কিশোর', 'বলল'), 84), (('করল', 'মুসা'), 83), (('করল', 'কিশোর'), 83), (('প্রশ্ন', 'করল'), 80), (('দিল', 'মুসা'), 77), (('না', 'মুসা'), 75)]\n"
     ]
    }
   ],
   "source": [
    "# Declaring an empty dictionary to use later.\n",
    "gram2_dict = {}  \n",
    "\n",
    "# Loops through the list and creates a frequency map of all the word pairs.\n",
    "for i in range(len(txtlst) - 1):  \n",
    "    key = (txtlst[i], txtlst[i + 1])\n",
    "    if key not in gram2_dict:\n",
    "        gram2_dict[key] = 0\n",
    "    gram2_dict[key] += 1 \n",
    "\n",
    "    # Using list comprehension to sort the list in descending order of highest frequency.  \n",
    "gram2_dict = sorted(gram2_dict.items(), key=lambda x: x[1], reverse=True)  \n",
    "print(gram2_dict[:20])"
   ]
  },
  {
   "cell_type": "markdown",
   "id": "805f4b65-5ca5-4483-9bbb-e0a0bcfb8a12",
   "metadata": {},
   "source": [
    "##### This cell is used to make the fucntion that would be used later for getting a random starting word."
   ]
  },
  {
   "cell_type": "code",
   "execution_count": 8,
   "id": "2e5493cf-b14c-4a31-bf57-97d164841fc0",
   "metadata": {},
   "outputs": [],
   "source": [
    "def radominitword():\n",
    "    random_index = random.randint(0, len(txtlst))  # Gets a random index from the list\n",
    "    start_word = txtlst[random_index]\n",
    "    return start_word"
   ]
  },
  {
   "cell_type": "code",
   "execution_count": 9,
   "id": "0f557f25-e52e-4187-917d-b053af96d4da",
   "metadata": {},
   "outputs": [
    {
     "name": "stdout",
     "output_type": "stream",
     "text": [
      "Start word: করে\n",
      "2-gram sentence:\n",
      "করে উঠল মুসা বলল কিশোর বলল কিশোর বলল কিশোর বলল কিশোর বলল কিশোর বলল কিশোর বলল কিশোর বলল কিশোর বলল "
     ]
    }
   ],
   "source": [
    "def get2GramSentence(word, n = 50):\n",
    "    for i in range(n):\n",
    "        \n",
    "        # For every iteration of the loop prints the next most probable word\n",
    "        print(word, end=\" \")  \n",
    "        \n",
    "        # Uses the next system to go through the entire dict and find the next word, and if it can not find anything returns None.\n",
    "        word = next((element[0][1] for element in gram2_dict if element[0][0] == word), None)   \n",
    "        \n",
    "        # If it gets a None, it breaks the function\n",
    "        if not word:  \n",
    "            break  \n",
    "\n",
    "            \n",
    "word = radominitword()\n",
    "print(f\"Start word: {word}\")\n",
    "print(\"2-gram sentence:\")\n",
    "get2GramSentence(word, 20)"
   ]
  },
  {
   "cell_type": "markdown",
   "id": "1ffe0dbb-4f16-41d1-a15d-8b30ee249964",
   "metadata": {},
   "source": [
    "##### Now we build a better function that chooses one randomly, but considers higher weight, and test it out again."
   ]
  },
  {
   "cell_type": "code",
   "execution_count": 10,
   "id": "251001f0-e022-4e78-9a07-ddc3a988b344",
   "metadata": {},
   "outputs": [],
   "source": [
    "def weighted_choice(choices):\n",
    "   total = sum(w for c, w in choices)\n",
    "   r = random.uniform(0, total)\n",
    "   upto = 0\n",
    "   for c, w in choices:\n",
    "      if upto + w > r:\n",
    "         return c\n",
    "      upto += w"
   ]
  },
  {
   "cell_type": "markdown",
   "id": "2c2c87d5-65d7-464e-a673-f74a523b8903",
   "metadata": {},
   "source": [
    "##### Now we test the new approach out."
   ]
  },
  {
   "cell_type": "code",
   "execution_count": 11,
   "id": "04122647-7eea-4656-a140-a95dac7b5663",
   "metadata": {},
   "outputs": [],
   "source": [
    "def get2GramSentenceRandom(word, n = 50):\n",
    "    for i in range(n):\n",
    "        print(word, end=\" \")\n",
    "        # Get all possible elements ((first word, second word), frequency)\n",
    "        choices = [element for element in gram2_dict if element[0][0] == word]\n",
    "        if not choices:\n",
    "            break\n",
    "        # Choose a pair with weighted probability from the choice list\n",
    "        word = weighted_choice(choices)[1]\n"
   ]
  },
  {
   "cell_type": "code",
   "execution_count": 12,
   "id": "2c945378-4f3e-4166-ab65-dba273b36efe",
   "metadata": {},
   "outputs": [
    {
     "name": "stdout",
     "output_type": "stream",
     "text": [
      "Start word: গেলাম\n",
      "2-gram sentence:\n",
      "গেলাম এক পর্দার দিকে তাকিয়ে রইল দুজনের গায়ে ওর ড্রেসারের উপর হাতঘড়ি দেখল তারপর ঘুরে দাঁড়িয়ে ‘সাবাস বেটা’ ‘কিন্তু ওভাবে জন্তুজানোয়ার বলি শোনার পর হলে যা খুঁজছ তা তো তাঁর ছেলে কোথায় এখন তোমার মুখও দেখতে পেল না মন বলছে তোমার শরীর মুচড়ে নিজেকে এ কথা খুলে নিয়ে অনেক ব্যাপার \n",
      "Start word: পথে\n",
      "2-gram sentence:\n",
      "পথে জিজ্ঞেস করলাম যেন এগিয়ে আসছে কেন চিন্তাটা মাথায় আসতে হাতের তালুতে থুতনি রেখে লাভ হবে আমার নির্বাচনে ভুল হতেই উহ্ করে ঠেলতে আরম্ভ করেছে জানো আমি অন্য কোন ক্ষতি হয়নি দেয়ালে নখ আঁচড়াচ্ছে’ ম্যাকনামারা ‘কিছু জেনেছ’ জেনেছি চমকে গেল টিকতেই পারল না করে নিঃশব্দে পিছনে কিশোর ‘ঘুমঘুম না পাওয়ায় \n",
      "Start word: কেন\n",
      "2-gram sentence:\n",
      "কেন সূর্যের আলো জঙ্গলে থাকে জ্যাকির মুখে তুমিই মুসা শিউরে উঠল কিশোর সামনে এত কিছু না সে মিস্টার সেভারন ঢুকলেই বা হবে যে মুসা বাপরে সত্যি হ্যাঁ বিষণ্ণ কণ্ঠে বলল ‘আমাদের এর ওর তারের ভিতর কাঁপুনি শুরু করেছি সেটা সম্ভব এগিয়ে গেল ও দুই লেনের বাড়ি যাবার আগে কী সব \n",
      "Start word: সেক্ষমতাই\n",
      "2-gram sentence:\n",
      "সেক্ষমতাই নেই জড়তা চলে এল না প্লীজ তুমি চাচাকে মিউজিয়ামে দিয়ে ড্যানিকে সব সময় সামনের ঘরের জানালায় বসে ছিল না দেখে সহানুভূতির সঙ্গে লড়াইয়ের পর একদিন আমাকে এর কোন কোন অসুবিধেই হয়নি শরীরটা ভাল লাগবে না কাঁধ ঝাঁকালেন মিসেস হকিন্স ঠিকই বুঝতে পারছে হয় ভুলেই গেছিলাম মনে হলো পনেরো মিনিটের \n",
      "Start word: হলো\n",
      "2-gram sentence:\n",
      "হলো আমার বলল মুসা ভূতুড়ে জগতে শুধু ব্রঙ্কো রাইডার সাজার দরকার ব্রেকের শব্দ বেরোতে হবে’ কিশোর ‘ধরতে পারবে যা হয় ঠিকই ধরে কাকে এ ভাবে গায়েব হয়ে থাকলে ওগুলো ওড়ার তালে তালে আছে সবখানে চষে বেড়াল কিছুক্ষণ লতা ঢুকছে রিকির জন্যেই প্রথমবার ডাকটা কানে এল বোট হাউস চোখ সাদা দাঁত \n"
     ]
    }
   ],
   "source": [
    "for i in range(5):\n",
    "    word = radominitword()\n",
    "    print(f\"Start word: {word}\")\n",
    "    print(\"2-gram sentence:\")\n",
    "    get2GramSentenceRandom(word)\n",
    "    print(\"\")"
   ]
  },
  {
   "cell_type": "markdown",
   "id": "8607fe91-dcc6-4696-ac2a-9499e3ffaaab",
   "metadata": {},
   "source": [
    "##### Now a general function that can make any n gram"
   ]
  },
  {
   "cell_type": "code",
   "execution_count": 13,
   "id": "d1ece66d-c928-4f2a-b95b-9778ca4dce16",
   "metadata": {},
   "outputs": [
    {
     "name": "stdout",
     "output_type": "stream",
     "text": [
      "[(('ফিসফিস', 'করে', 'বলল'), 32), (('চিৎকার', 'করে', 'উঠল'), 27), (('বলে', 'উঠল', 'মুসা'), 25), (('খুঁজে', 'বের', 'করতে'), 23), (('বুঝতে', 'পারছি', 'না'), 19), (('জবাব', 'দিল', 'না'), 17), (('দিকে', 'তাকিয়ে', 'আছে'), 17), (('পারল', 'না', 'মুসা'), 17), (('জিজ্ঞেস', 'করল', 'কিশোর'), 17), (('থেকে', 'বেরিয়ে', 'এল'), 17), (('মনে', 'হয়', 'না'), 16), (('মাথা', 'ঝাঁকাল', 'কিশোর'), 16), (('দেরি', 'হয়ে', 'গেছে'), 16), (('প্রশ্ন', 'করল', 'কিশোর'), 16), (('আমার', 'দিকে', 'তাকিয়ে'), 16), (('করতে', 'পারছে', 'না'), 15), (('জানতে', 'চাইল', 'রবিন'), 15), (('কোন', 'সন্দেহ', 'নেই'), 15), (('দেখে', 'মনে', 'হলো'), 15), (('দিকে', 'তাকাল', 'কিশোর'), 14)]\n"
     ]
    }
   ],
   "source": [
    "def generateNgram(n=1):\n",
    "    gram = {}\n",
    "\n",
    "    # Populate N-gram dictionary\n",
    "    for i in range(len(txtlst) - (n - 1)):\n",
    "        key = tuple(txtlst[i:i+n])\n",
    "        if key not in gram:\n",
    "            gram[key] = 0\n",
    "        gram[key] += 1\n",
    "\n",
    "    # Turn into a list of (word, count) sorted by count from most to least\n",
    "    gram = sorted(gram.items(), key=lambda x: -x[1])\n",
    "    return gram\n",
    "\n",
    "trigram = generateNgram(3)\n",
    "# Print top 20 most frequent ngrams\n",
    "print(trigram[:20])"
   ]
  },
  {
   "cell_type": "markdown",
   "id": "27e86d35-365f-4d71-8969-c6b5da209eb2",
   "metadata": {},
   "source": [
    "##### Final step we build a function that generates ngram sentences"
   ]
  },
  {
   "cell_type": "code",
   "execution_count": 14,
   "id": "6344cdb6-fe85-4c67-aeb4-cc6c777210db",
   "metadata": {},
   "outputs": [],
   "source": [
    "def getNGramSentenceRandom(gram, word, n=50):\n",
    "    for i in range(n):\n",
    "        print(word, end=' ')\n",
    "        # Get all possible elements ((first word, second word), frequency)\n",
    "        choices = [element for element in gram if element[0][0] == word]\n",
    "        if not choices:\n",
    "            break\n",
    "        word = weighted_choice(choices)[1]"
   ]
  },
  {
   "cell_type": "markdown",
   "id": "28709897-a8f4-4122-be95-0362a6e8e13a",
   "metadata": {},
   "source": [
    "##### Testing it out."
   ]
  },
  {
   "cell_type": "code",
   "execution_count": 15,
   "id": "f5ce9bd6-995d-4c4a-8e63-050324a7eaed",
   "metadata": {},
   "outputs": [
    {
     "name": "stdout",
     "output_type": "stream",
     "text": [
      "\n",
      "Generating 2-gram list... Done\n",
      "\n",
      "  2-gram:   কোন ক্রেতা বেরিয়েছে সন্ধ্যাটা উপভোগ করার নেই সম্মোহিতের মত নরম স্বভাবের একটা ছোট কয়েকটা বাদুড় উড়ে এসেছে ‘তুমি একটা ভূতুড়ে আলোয় দেখতে দেখতে পেল লোক দোকানে ঢুকল মুসা ‘আমরা আজকে \n",
      "\n",
      "  2-gram:   বাইরে ফুল থ্রটল দিল রবিন ভেতরে উঁকি দিল মিসেস সেভারনকে পেলে মন্দ হয় এই শপিং মলে যেতে হবে আমি যা অন্ধকার যতই ভাবল কিশোর কিন্তু এসময় তীক্ষ্ণ দৃষ্টিতে তাকাল দেরি \n",
      "\n",
      "  2-gram:   ‘উপরে আলো দেখা যাবে শদুয়েক ছেলেমেয়ে কিভাবে নেয়া যাক তোমার মধ্যে ডুব দিয়ে গেছে গুলি ‘ভিতরে ঢোকো’ চিৎকার করে চালের ওপর চোখ মেলল সবাই স্কুল সেফটি প্রোগ্রামে একসাথে কাজ আমাকে \n",
      "\n",
      "  2-gram:   উঠে বসল তিন কোটি টাকার হিসেবটা রাখবে তা না বলে আমাকে পকেট থেকে পালাতে পারলে ওপরের আকাশটাকে ভরে দিয়ে বসে আছে এখানে’ প্রশ্ন ‘জানি না তো তুমি মুসা কিশোর কানে \n",
      "\n",
      "\n",
      "Generating 3-gram list... Done\n",
      "\n",
      "  3-gram:   আমার খোঁজ নিচ্ছেন স্বীকার করে সরু এক পুত্র ও মুসাকে আসতে হলো রিকির শরীরে ঘাম মুছে ফেলবার চেষ্টা করে দিল ভয়ঙ্কর দুঃস্বপ্ন দেখেছি জ্যাকিকে বলত পাত্তা নেই ওর কথা আমাদের \n",
      "\n",
      "  3-gram:   ডানা রবিন মাথা ঠিক এসময় ‘মাফ করবেন’ বলল এক মিনিট পর মিসেস ওয়েসলির হার্ট অ্যাটাকটা ছিল না বলেই খাবার দিয়ে খুলে ভেতরে আছে ভাবল বাংলোর ভিতর কে মারছে একটা বলবে \n",
      "\n",
      "  3-gram:   বলল রবিন বিড়বিড় করল কিশোর গোস্ট লেনের দিকে চাইলাম এবার আর দেখতে পেল না মানুষ এমন ভঙ্গিতে মাথা এসব ভাল তো বলবেই না পারার কোন প্রতিক্রিয়া না এর পর ভালুকের \n",
      "\n",
      "  3-gram:   গাছের ফাঁক দিয়ে উঁকি দিতে এসেছিল সব সোয়াম্পল্যান্ড গুডস হয়ে তাকিয়ে দেখলাম এর পর গ্রীন হিলস বম্বার’ ‘আর আমার পালা করে না’ তেরো মাস দুই হাত মুখ তুলে নামিয়ে এনে \n",
      "\n",
      "\n",
      "Generating 4-gram list... Done\n",
      "\n",
      "  4-gram:   কিশোর হ্যাঁ বলো মোটাসোটা খাটো রাখল জঙ্গলের ভিতর ফায়েজাকে খুঁজল রাফিও ‘আমি তোমার ধারণা তা ছাড়া আর রবিন তো আর কারও জানা হলো দেখল কেউ উঠল মুসা কাঁধে ‘ওটা কি \n",
      "\n",
      "  4-gram:   তার সূত্রটা ধরিয়ে ছাউনির দিকে তাকাল রিকি মাস জেল খেটে সবে প্রবেশ করলেন তিনি সেই লোকটা ‘হ্যাঁ মিস্টার লাউয়ি আমি তো থাকার বড় কথা এ খেলায় অংশ নেবেন মিস্টার জোনস \n",
      "\n",
      "  4-gram:   লেখা ‘শপিং মলের এলিভেটরে কেউ নেই ডাক্তারকে খবর নেই না হাঁপ ছেড়ে পালাব মিস্টার গিবসনের ঘোষণা শুনল না কিন্তু প্রচণ্ড কৌতূহল জাগছে না’ ‘সাদা চুলের বোঝা যাচ্ছে শোয়র সঙ্গে শপিং \n",
      "\n",
      "  4-gram:   সমুদ্র পার হইয়া তাহাদিগকে সমুদ্রে ভাসাইয়া দিলেন তিনি ভূতের উপদ্রব আছে আমাদের খবর মরিস তখন ও এতটা নিঃশব্দে এগিয়ে আসছে স্কারপিনি ভুরু কুঁচকে গেল অনেক বেশি ঢ্যাঙা তা হয় একটা \n",
      "\n",
      "\n",
      "Generating 5-gram list... Done\n",
      "\n",
      "  5-gram:   দিকে এগোল বিষাক্ত কিছু ঘটে ভবিষ্যতে লঙ্কাদ্বীপে পৌঁছিল ভগবান বুদ্ধের আদেশে শত্রু আছে’ মরিস মরিসন বিলকে সাহায্য করবে আমার দিকে দুমুহূর্ত বাদে থমকে দাঁড়াল কিশোর কিন্তু গতি বাড়ানো শুরু করল \n",
      "\n",
      "  5-gram:   ফায়ার কটেজের সারি দিয়ে পেছন থেকে চোখ পড়ল মুসার ফুটবল প্র্যাকটিস করছে গুনগুন করে মগজটাকে দখল করে চিনতে পারল না ভাবছে একটুক্ষণ তিরতির করে নেমে বোটে করে জ্বলে উঠল কিশোরের \n",
      "\n",
      "  5-gram:   সামনে পড়ল জংপড়া টিনের চালে উঠেছে অন্য এক ধরনের মিলনায়তন ‘হাহ আজব মানুষটা স্বর্গ শপিং সেন্টার থেকে নেমে এসেছে সামনের ঘরে বানানো হবে বাড়িতে তারপর কটেজের দিকে চলে গেল নাকি \n",
      "\n",
      "  5-gram:   রয়েছে মুসা উঠেই দিল স্কারপিনি আর বলতে শুনলাম জোরাল শব্দে বোধহয় আমি ওটাকে এক প্রাকৃতিক দীঘির দিকে চেয়ে ভ্ৰ কুঁচকাল কিশোর পেননাইফটা হাতে একটা সুইম মাস্ক আর ফ্লাস্ক বের করল \n",
      "\n",
      "\n",
      "Generating 6-gram list... Done\n",
      "\n",
      "  6-gram:   বাসাটার দিকে খোলে সীব্রিজ রোড ব্লক পরে আছো তাহলে’ বার্নারের কেবিনের দিকে তাকিয়ে আঁতকে উঠল সুইম মাস্কের ধাতব কিছু মেঝেতে পড়ে আছে ‘মাও একথাই বলেছিল’ ‘হুঁ’ মাথা ঝাড়ল আরেকবার তাকাল \n",
      "\n",
      "  6-gram:   মত তারপর পুলিশকে জানানোর জন্যে কার্পেটের পাশে ‘টিকেট গ্রীন হিলস বম্বার’ ‘আর আমি ভয় দেখাতে নিয়ে এসে ভ্যানটাকে রাস্তার শেষ জীবনে শুনিনি তা প্রমাণ নাই বা মরুভূমির কথা আমার দিকে \n",
      "\n",
      "  6-gram:   বসল অ্যালিগেইটরের কাজ’ চোখের উপর তেরছাভাবে পড়ে থাকতে দেখল দেয়ালের কাছে ক্রিসি কোন ভাইবোন ছিল তবে আমি বলতে পারি না মিসেস জবারকে ডিস্টার্ব করছে’ প্রফেসর যেন আছে’ জিজ্ঞেস করল কিন্তু \n",
      "\n",
      "  6-gram:   বগিম্যানের কী জ্যাক ‘গাঁবাসী কফিনগুলো বয়ে নিয়ে পা আর কোন উপায় কি করে উঠল মুসা একজোড়া বাড়তি চাকা পিছলে ছুটল আবার ঘুরলেন এখনও পা বাড়াল কিশোর উঠে গিয়ে বমি শুরু \n",
      "\n",
      "\n",
      "Generating 7-gram list... Done\n",
      "\n",
      "  7-gram:   যেন পতঙ্গের মত পাক খেয়ে ট্রাঙ্কে বন্দি তারমানে ঘরটা থেকে লেগেছে সামান্য একটুখানি ঢুকিয়ে দিয়ে বলল থাক পঙ্খীরাজ হওয়ার সময় লাগবে তাই না কিশোরের ‘এক ঘণ্টার মধ্যে ডিসেম্বরের বিকেলের আলোয় \n",
      "\n",
      "  7-gram:   দিয়ে পালিয়েছে ভাঁড়’ ‘ডিক টোম্যান’ টেবিলের কাছে থেকে কাঠি খস করে প্রতি বেশি কল্পনা করতে পারিনি আমি বরং হাঁটাহাঁটি করে বেড়ায় আর ভাসতে কোত্থেকে ও জোরে ছোটার জন্যে ওকে অনুগমন \n",
      "\n",
      "  7-gram:   বই তুলে নিয়েছে রিকিরা ভীষণ বিপদ থেকে ওদের পাশে গুটিসুটি হয়ে গেছে চাচাচাচীর সঙ্গে চেহারার একটা মাকড়ি দরজা খোলে’ ‘গোপন দরজা’ বলল ‘মনে হচ্ছে এখন কী আমার হাতখরচ থেকে কথা \n",
      "\n",
      "  7-gram:   আমাদের প্রশ্নবোধকগুলো বসানোর সময় ভাল লোক আপনাদের কার্পেটটা কি করতে হবে আমার দিকে রাফি না দেন এই বিশেষ করে দেয়া যায় নিচে সবুজ ছোট পার্কিং লটে ঢুকল তার মধ্যে দাঁড়টা \n",
      "\n",
      "\n",
      "Generating 8-gram list... Done\n",
      "\n",
      "  8-gram:   করে ফেলেছেন কী রকম থাকে মাথায় ট্রেইলারগুলোতে থাকেন তার মধ্যে কোথাও তোমার জবাব দিল কিশোর বিল ‘কী খুঁজছিল’ মুসার করল কিটি না কিশোর হালো আন্টি আমি জানি না ঘোরে থাকলে \n",
      "\n",
      "  8-gram:   ব্রেক করত না নেই অসুবিধেটা আপনার মত হাত চোখ মেলে বিছানায় বসে কী কাজ’ ডানার মুখের চেহারা একটা আগুনের কণা মেশানো কোন কেসের কথা কিশোর মুসাকে বলল কিশোর গোয়েন্দা…খুব ভাল \n",
      "\n",
      "  8-gram:   বোধহয় দেরি হয়ে গিয়েছিল চোখে চিঠিটা যেদিন পেয়েছ তোমরা আমি জীববিজ্ঞানী নানা রকম বিপদে পড়ার ভয়ে তাড়াতাড়ি বলল হু ভূতের ছবি দেখেছি’ হেসে প্রশ্নটা এড়ানো যাবে না কিশোর ‘আমরা জানার \n",
      "\n",
      "  8-gram:   সর্বনাশ ছাউনিতে ডুবুরির যন্ত্রপাতি নিয়েছেন তিনি সম্পূর্ণ নতুন কোন কারণে আমার ফার্ম থেকে টান দিল না জিনা তুমি তার মুখের কাছে গেলাম সবখানেই ক্যাপিটাল লেটারে সেভারনদের বাগানে উত্তেজনায় কাঁপছে হাতটা \n",
      "\n",
      "\n",
      "Generating 9-gram list... Done\n",
      "\n",
      "  9-gram:   এক ঘণ্টার মধ্যে অস্বাভাবিক কিছু তথ্যপ্রমাণ জোগাড় করে দুই টান দিল কিশোর ‘উনি কিশোরকে নিয়ে গিয়ে চমকে উঠছে তাঁর তবু ওটার গায়েমাথায় হাত তুলে নিল টাকা তো আর ওই ডাকাতেরা \n",
      "\n",
      "  9-gram:   তালুর দিকে চোখ দুটো অক্ষর অনুযায়ী সাজানো ছোট আপেল খেয়ে ঘুম পাচ্ছে সে.. লীলার নখের মত দাঁড়িয়ে রইল মেঝেতে লেজ আছড়েছে একটুও দেরি হবে বহুবার জিনিসপত্র কিনতে পারব তোমার নামটা \n",
      "\n",
      "  9-gram:   চোর দুটো বাদুড় জীবনে আর হ্যারিস রাস্টির সঙ্গে যোগাযোগের চেষ্টা করল জ্যাক ‘সন্ধ্যা লাগার কথা রবিনকে জানাল মুসা জিনা আরও একটা ভুতুড়ে দুর্গ আর ছবি আছে ওটা করবেই তাই না’ \n",
      "\n",
      "  9-gram:   সঙ্গে ম্যাক ভবঘুরে ধরনের রেকর্ড উম বার্থ রেকর্ড রুমের চারধারে বনের মধ্যে হ্যাঁ আমি সেদিন ওরা ফিরবে না ওরা এর কাছ থেকে আগে কি জানেন না কাল রাতে পূর্ণ জাগরণের \n",
      "\n"
     ]
    }
   ],
   "source": [
    "for n in range(2, 10):\n",
    "    # Generate ngram list\n",
    "    print()\n",
    "    print(f\"Generating {n}-gram list...\", end=' ')\n",
    "    ngram = generateNgram(n)\n",
    "    print(\"Done\")\n",
    "    \n",
    "    print(\"\")\n",
    "    \n",
    "    # Try out a bunch of sentences\n",
    "    for i in range(4):\n",
    "        word = radominitword()\n",
    "        print(f\"  {n}-gram:  \", end=' ')\n",
    "        getNGramSentenceRandom(ngram, word, 30)\n",
    "        print(\"\")\n",
    "        print(\"\")\n",
    "        "
   ]
  }
 ],
 "metadata": {
  "kernelspec": {
   "display_name": "Python 3 (ipykernel)",
   "language": "python",
   "name": "python3"
  },
  "language_info": {
   "codemirror_mode": {
    "name": "ipython",
    "version": 3
   },
   "file_extension": ".py",
   "mimetype": "text/x-python",
   "name": "python",
   "nbconvert_exporter": "python",
   "pygments_lexer": "ipython3",
   "version": "3.9.12"
  }
 },
 "nbformat": 4,
 "nbformat_minor": 5
}
