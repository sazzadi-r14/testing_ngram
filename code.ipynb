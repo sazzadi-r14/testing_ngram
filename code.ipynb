{
 "cells": [
  {
   "cell_type": "code",
   "execution_count": 1,
   "id": "9c2e5f4a-a02c-4393-9e3e-2fb36ae48231",
   "metadata": {
    "tags": []
   },
   "outputs": [],
   "source": [
    "import sys"
   ]
  },
  {
   "cell_type": "code",
   "execution_count": 15,
   "id": "8f59eda2-4c45-46be-b358-1d19b59f8865",
   "metadata": {},
   "outputs": [
    {
     "name": "stdout",
     "output_type": "stream",
     "text": [
      "['রবিনের', 'টোকার', 'সাড়া', 'দিল', 'না', 'সোফি।']\n",
      "['পাশে', 'দাঁড়ানো', 'মারলার', 'দিকে', 'তাকাল।', 'রবিন।', 'আবার', 'টোকা', 'দিল', 'দরজায়।', 'জবাব', 'নেই', 'এবারেও।', 'উঁকি', 'দিয়ে', 'দেখল', 'রান্নাঘরের', 'টেবিলে', 'ঘাড়', 'গুঁজে', 'বসে', 'আছে', 'সোফি।', 'অবাক', 'হলো।', 'দরজা', 'ঠেলে', 'ভেতরে', 'ঢুকল।']\n",
      "['সোফির', 'সামনে', 'টেবিলে', 'বিছানো', 'একটা', 'পত্রিকা।', 'লস', 'অ্যাঞ্জেলেস', 'টাইমস।']\n",
      "['কি', 'হয়েছে,', 'সোফি?', 'জিজ্ঞেস', 'করল', 'মারলা।', 'খবর', 'সব', 'ভাল', 'তো?']\n",
      "['জবাব', 'দিল', 'না', 'সোফি।', 'দুহাতে', 'গাল', 'চেপে', 'ধরে', 'তেমনি', 'ভঙ্গিতে', 'বসে', 'আছে।', 'অতিমাত্রায়', 'আবেগপ্রবণ', 'ও,', 'জানা', 'আছে', 'মারলার।', 'তবু', 'অবাক', 'লাগল।', 'আচরণটা', 'স্বাভাবিক', 'নয়।']\n",
      "['সোফির', 'পেছনে', 'এসে', 'পিঠে', 'হাত', 'রাখল', 'রবিন,', 'খুব', 'খারাপ', 'কিছু?']\n",
      "['গাল', 'থেকে', 'হাত', 'সরিয়ে', 'মুখ', 'তুলে', 'তাকাল', 'সোফি।', 'চোখ', 'লাল।', 'কোন', 'কথা', 'না', 'বলে', 'কাগজের', 'নিচ', 'থেকে', 'গোলাপী', 'রঙের', 'একটা', 'খাম', 'বের', 'করল।', 'বাড়িয়ে', 'ধরল', 'সেটা।', 'হাত', 'কাঁপছে।']\n"
     ]
    }
   ],
   "source": [
    "with open(\"shorttest.txt\", encoding = 'utf-8') as f:\n",
    "    for line in f:\n",
    "        line = line.strip()\n",
    "        line = line.split()\n",
    "        print(line)"
   ]
  },
  {
   "cell_type": "code",
   "execution_count": null,
   "id": "09ac9723-d98b-4ad9-b5af-5325abfb6cdf",
   "metadata": {},
   "outputs": [],
   "source": []
  }
 ],
 "metadata": {
  "kernelspec": {
   "display_name": "Python 3 (ipykernel)",
   "language": "python",
   "name": "python3"
  },
  "language_info": {
   "codemirror_mode": {
    "name": "ipython",
    "version": 3
   },
   "file_extension": ".py",
   "mimetype": "text/x-python",
   "name": "python",
   "nbconvert_exporter": "python",
   "pygments_lexer": "ipython3",
   "version": "3.9.12"
  }
 },
 "nbformat": 4,
 "nbformat_minor": 5
}
