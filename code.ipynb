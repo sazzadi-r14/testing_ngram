{
 "cells": [
  {
   "cell_type": "markdown",
   "id": "f969186c-df4c-4b14-ab50-96bf5e3529d0",
   "metadata": {},
   "source": [
    "# Generating Bangla Sentences using Ngrams"
   ]
  },
  {
   "cell_type": "markdown",
   "id": "39dbe629-55fe-4f61-87e3-3aa09fe7dc02",
   "metadata": {},
   "source": [
    "##### Importing all the important modules"
   ]
  },
  {
   "cell_type": "code",
   "execution_count": 1,
   "id": "a09888bc-1da2-4cbb-8785-943a74c65ec0",
   "metadata": {
    "tags": []
   },
   "outputs": [],
   "source": [
    "import sys\n",
    "import sets\n",
    "import random"
   ]
  },
  {
   "cell_type": "markdown",
   "id": "2738849c-f84d-4c49-991c-dc6b0227bd56",
   "metadata": {},
   "source": [
    "##### This cell makes a string of all the texts from the file"
   ]
  },
  {
   "cell_type": "code",
   "execution_count": 2,
   "id": "8f59eda2-4c45-46be-b358-1d19b59f8865",
   "metadata": {},
   "outputs": [],
   "source": [
    "txt = \"\"\n",
    "with open(\"data.txt\", encoding = 'utf-8') as f:  # We Have to use the encdoign argument, or else it does not recognize Bangla\n",
    "    for line in f:\n",
    "        # Strips the line brekas from the end of the lines\n",
    "        line = line.strip()  \n",
    "        # Concatenates the line to the txt string\n",
    "        txt += line + ' '  "
   ]
  },
  {
   "cell_type": "markdown",
   "id": "39b9993e-e93f-45b2-a3b6-75340a92b0ad",
   "metadata": {},
   "source": [
    "##### This cell cleans up all the punctuation, english word, and grabage space from the string."
   ]
  },
  {
   "cell_type": "code",
   "execution_count": 3,
   "id": "09ac9723-d98b-4ad9-b5af-5325abfb6cdf",
   "metadata": {},
   "outputs": [
    {
     "name": "stdout",
     "output_type": "stream",
     "text": [
      "139001\n"
     ]
    }
   ],
   "source": [
    "# A string of everything we want to omit\n",
    "punc = \"aAbBcCdDeEfFgGhHiIjJkKlLmMnNoOpPqQrRsStTuUvVwWxXyYzZ,!?;।:—:--/\"  \n",
    "\n",
    "# Loop through the entire string and omits the garbage values\n",
    "for ch in txt:  \n",
    "    if ch in punc:\n",
    "        txt = txt.replace(ch, \"\")\n",
    "\n",
    "# Makes a list of all the words\n",
    "txtlst = txt.split(\" \")  \n",
    "\n",
    "# Gets rid of all the garbage spaces in the list\n",
    "for elem in txtlst:  \n",
    "    if elem == '':\n",
    "        txtlst.remove(elem)\n",
    "        \n",
    "print(len(txtlst))"
   ]
  },
  {
   "cell_type": "markdown",
   "id": "849bb908-06b1-4a6c-a81f-64f9c5d194fe",
   "metadata": {},
   "source": [
    "##### This cell converts the list into a set of Gram-1. The main purpose of this is to erdicate duplicates."
   ]
  },
  {
   "cell_type": "code",
   "execution_count": 4,
   "id": "1625aed7-bfc9-45dd-bed9-86ca6081a512",
   "metadata": {},
   "outputs": [
    {
     "name": "stdout",
     "output_type": "stream",
     "text": [
      "16652\n",
      "পাশার মতই\n",
      "মতই অনুভূতি\n",
      "অনুভূতি হচ্ছে\n",
      "হচ্ছে এবং\n",
      "এবং আমার\n",
      "আমার জন্য\n",
      "জন্য সেটাই\n",
      "সেটাই যথেষ্ট\n",
      "যথেষ্ট \n"
     ]
    }
   ],
   "source": [
    "# Creates a set of all the words, and removes the duplicates.\n",
    "gram1 = set(txtlst)  \n",
    "print(len(gram1))\n",
    "\n",
    "# Testing out the list to build pairs by printing copies. \n",
    "for i in range(len(txtlst) - 10, len(txtlst) - 1):\n",
    "    print(txtlst[i], txtlst[i + 1])"
   ]
  },
  {
   "cell_type": "markdown",
   "id": "77b4ca83-95ba-48fe-99dd-e91061093ad7",
   "metadata": {},
   "source": [
    "##### This cell use to make 2Grams in an analogous manner"
   ]
  },
  {
   "cell_type": "code",
   "execution_count": 5,
   "id": "dc3a09fb-b0fa-419a-812a-964c326cd143",
   "metadata": {},
   "outputs": [
    {
     "name": "stdout",
     "output_type": "stream",
     "text": [
      "139000\n"
     ]
    }
   ],
   "source": [
    "# Declaring an empty list to use later.\n",
    "word_pairs = []  \n",
    "\n",
    "# Loops through the entire list and returns a list of tuples containing consecutive pairs\n",
    "for i in range(len(txtlst) - 1):  \n",
    "    word_pairs.append((txtlst[i], txtlst[i + 1]))\n",
    "print(len(word_pairs))\n",
    "\n",
    "# Creating a set to remove the duplicates.\n",
    "gram2 = set(word_pairs)  "
   ]
  },
  {
   "cell_type": "markdown",
   "id": "6e34b306-d911-45ea-823c-fcf257ef81db",
   "metadata": {},
   "source": [
    "##### This cell used to make frequency dictionary from 1-Grams."
   ]
  },
  {
   "cell_type": "code",
   "execution_count": 6,
   "id": "9413846f-ed69-4afc-b3bd-59901b6c59e0",
   "metadata": {},
   "outputs": [
    {
     "name": "stdout",
     "output_type": "stream",
     "text": [
      "[('না', 2482), ('করে', 1706), ('মুসা', 1308), ('বলল', 1209), ('আর', 1058), ('কিশোর', 1046), ('একটা', 975), ('থেকে', 930), ('দিকে', 890), ('করল', 824), ('দিয়ে', 810), ('গেল', 796), ('রবিন', 778), ('আমার', 771), ('হয়ে', 709), ('আমি', 657), ('কি', 615), ('ও', 605), ('দিল', 577), ('আছে', 577)]\n"
     ]
    }
   ],
   "source": [
    "# Declaring an empty dictionary to use later.\n",
    "gram1_dict = {}  \n",
    "\n",
    "# Loops through the list and creates a frequency map of all the words\n",
    "for word in txtlst:  \n",
    "    if word not in gram1_dict:\n",
    "        gram1_dict[word] = 0\n",
    "    gram1_dict[word] += 1 \n",
    "\n",
    "# Using list comprehension to sort the list in descending order of highest frequency\n",
    "gram1_dict = sorted(gram1_dict.items(), key=lambda x: x[1], reverse=True)  \n",
    "print(gram1_dict[:20])"
   ]
  },
  {
   "cell_type": "code",
   "execution_count": 7,
   "id": "04a63c00-02c0-4fd2-8377-d6cb056ea9d6",
   "metadata": {},
   "outputs": [
    {
     "name": "stdout",
     "output_type": "stream",
     "text": [
      "না করে মুসা বলল আর কিশোর একটা থেকে দিকে করল দিয়ে গেল রবিন আমার হয়ে আমি কি ও দিল আছে "
     ]
    }
   ],
   "source": [
    "localvar = 0\n",
    "rint(\"1-Gram:\" + \" \",  end= '')\n",
    "for key in gram1_dict:\n",
    "    print(key[0] + \" \",  end= '')\n",
    "    localvar += 1\n",
    "    if localvar == 20:\n",
    "        break"
   ]
  },
  {
   "cell_type": "markdown",
   "id": "e703740c-03e4-4ca3-9876-7a0812dd6926",
   "metadata": {},
   "source": [
    "##### This cell is used to make frequency dictionary of 2-Grams."
   ]
  },
  {
   "cell_type": "code",
   "execution_count": 8,
   "id": "7f8848e1-2998-442f-a261-2f2ced57af7f",
   "metadata": {},
   "outputs": [
    {
     "name": "stdout",
     "output_type": "stream",
     "text": [
      "[(('বলল', 'কিশোর'), 160), (('শুরু', 'করল'), 155), (('বলল', 'মুসা'), 152), (('জিজ্ঞেস', 'করল'), 130), (('দিকে', 'তাকিয়ে'), 122), (('বলল', 'রবিন'), 122), (('হয়ে', 'গেল'), 113), (('হয়ে', 'গেছে'), 112), (('মনে', 'হলো'), 104), (('মিস্টার', 'সেভারন'), 93), (('মনে', 'হয়'), 91), (('আমার', 'দিকে'), 86), (('জবাব', 'দিল'), 85), (('বের', 'করে'), 84), (('কিশোর', 'বলল'), 84), (('করল', 'মুসা'), 83), (('করল', 'কিশোর'), 83), (('প্রশ্ন', 'করল'), 80), (('দিল', 'মুসা'), 77), (('না', 'মুসা'), 75)]\n"
     ]
    }
   ],
   "source": [
    "# Declaring an empty dictionary to use later.\n",
    "gram2_dict = {}  \n",
    "\n",
    "# Loops through the list and creates a frequency map of all the word pairs.\n",
    "for i in range(len(txtlst) - 1):  \n",
    "    key = (txtlst[i], txtlst[i + 1])\n",
    "    if key not in gram2_dict:\n",
    "        gram2_dict[key] = 0\n",
    "    gram2_dict[key] += 1 \n",
    "\n",
    "    # Using list comprehension to sort the list in descending order of highest frequency.  \n",
    "gram2_dict = sorted(gram2_dict.items(), key=lambda x: x[1], reverse=True)  \n",
    "print(gram2_dict[:20])"
   ]
  },
  {
   "cell_type": "markdown",
   "id": "805f4b65-5ca5-4483-9bbb-e0a0bcfb8a12",
   "metadata": {},
   "source": [
    "##### This cell is used to make the fucntion that would be used later for getting a random starting word."
   ]
  },
  {
   "cell_type": "code",
   "execution_count": 9,
   "id": "2e5493cf-b14c-4a31-bf57-97d164841fc0",
   "metadata": {},
   "outputs": [],
   "source": [
    "def radominitword():\n",
    "    random_index = random.randint(0, len(txtlst))  # Gets a random index from the list\n",
    "    start_word = txtlst[random_index]\n",
    "    return start_word"
   ]
  },
  {
   "cell_type": "code",
   "execution_count": 10,
   "id": "0f557f25-e52e-4187-917d-b053af96d4da",
   "metadata": {},
   "outputs": [
    {
     "name": "stdout",
     "output_type": "stream",
     "text": [
      "Start word: হয়\n",
      "2-gram sentence:\n",
      "হয় না মুসা বলল কিশোর বলল কিশোর বলল কিশোর বলল কিশোর বলল কিশোর বলল কিশোর বলল কিশোর বলল কিশোর বলল "
     ]
    }
   ],
   "source": [
    "def get2GramSentence(word, n = 50):\n",
    "    for i in range(n):\n",
    "        \n",
    "        # For every iteration of the loop prints the next most probable word\n",
    "        print(word, end=\" \")  \n",
    "        \n",
    "        # Uses the next system to go through the entire dict and find the next word, and if it can not find anything returns None.\n",
    "        word = next((element[0][1] for element in gram2_dict if element[0][0] == word), None)   \n",
    "        \n",
    "        # If it gets a None, it breaks the function\n",
    "        if not word:  \n",
    "            break  \n",
    "\n",
    "            \n",
    "word = radominitword()\n",
    "print(f\"Start word: {word}\")\n",
    "print(\"2-gram sentence:\")\n",
    "get2GramSentence(word, 20)"
   ]
  },
  {
   "cell_type": "markdown",
   "id": "1ffe0dbb-4f16-41d1-a15d-8b30ee249964",
   "metadata": {},
   "source": [
    "##### Now we build a better function that chooses one randomly, but considers higher weight, and test it out again."
   ]
  },
  {
   "cell_type": "code",
   "execution_count": 11,
   "id": "251001f0-e022-4e78-9a07-ddc3a988b344",
   "metadata": {},
   "outputs": [],
   "source": [
    "def weighted_choice(choices):\n",
    "   total = sum(w for c, w in choices)\n",
    "   r = random.uniform(0, total)\n",
    "   upto = 0\n",
    "   for c, w in choices:\n",
    "      if upto + w > r:\n",
    "         return c\n",
    "      upto += w"
   ]
  },
  {
   "cell_type": "markdown",
   "id": "2c2c87d5-65d7-464e-a673-f74a523b8903",
   "metadata": {},
   "source": [
    "##### Now we test the new approach out."
   ]
  },
  {
   "cell_type": "code",
   "execution_count": 12,
   "id": "04122647-7eea-4656-a140-a95dac7b5663",
   "metadata": {},
   "outputs": [],
   "source": [
    "def get2GramSentenceRandom(word, n = 50):\n",
    "    for i in range(n):\n",
    "        print(word, end=\" \")\n",
    "        # Get all possible elements ((first word, second word), frequency)\n",
    "        choices = [element for element in gram2_dict if element[0][0] == word]\n",
    "        if not choices:\n",
    "            break\n",
    "        # Choose a pair with weighted probability from the choice list\n",
    "        word = weighted_choice(choices)[1]\n"
   ]
  },
  {
   "cell_type": "code",
   "execution_count": 13,
   "id": "2c945378-4f3e-4166-ab65-dba273b36efe",
   "metadata": {},
   "outputs": [
    {
     "name": "stdout",
     "output_type": "stream",
     "text": [
      "Start word: করছি\n",
      "2-gram sentence:\n",
      "করছি বয়েস লুকানোর জন্যে’ . আমাকে খবর ঘুম আসছে ওকে প্রথমে মনে হওয়ায় নিরাশই মনে হলো একজন লোক দুটো বাদুড় ছাই রঙ মেশানো ঝোড়ো রাত কাটালে কী বলছ ড্যানির ছোট একটা ঘণ্টা দুয়েকের মধ্যেই আড়মোড়া ভেঙে গেল এক লোক বয়েসও অনেক বেশি করে তাকিয়ে থেকে হেসে জবাব দিলাম ‘আগামী কাল \n",
      "Start word: হুইলটার\n",
      "2-gram sentence:\n",
      "হুইলটার কাছে প্রায় সারাদিন দাঁড়িয়ে গেল সে বসে গড়িয়ে পড়েই যাচ্ছিলাম প্রায় কালো একজোড়া বুট পরছে আগের দিন কাটিয়ে এলে’ ‘সেমিনোল ম্যাজিক’ হেসে উঠল রবিন পুলিশী সন্দেহ ব্রাম স্টোকারের ড্রাকুলা না পেরে শেষে বলতে বলতে পারব না দেখে আমরা মিস্টার জনসন হাত বুলালেন কালো চুল সরানোর জন্যে চিত হলো ফুসফুস \n",
      "Start word: কোন\n",
      "2-gram sentence:\n",
      "কোন মানে বাড়ি পড়তে গিয়ে হাত চাপা পড়ে আছে কিলার শাহানাকে অনুসরণ করল জ্যাক আর কবর খোঁড়াত তারপর থেকে গাছে বসেই তো পড়ে’ মুখটা মেঝেতে যেটুকু পড়ল আবার লাগিয়ে দিয়েছে মিসেস সেভারন বললেন ‘দৌড় দাও জিনা ‘খাইছে মশা নেই বসে ঘুমিয়ে পড়েছে মাটিতে ফেলে দিয়েছে সেমিনোল গুপ্তধনের কথা খুলে দিল \n",
      "Start word: গেল\n",
      "2-gram sentence:\n",
      "গেল কিশোর ওর কাছে ঘেঁষল না ওর তারের বাঁকা মাথাটা এবার কিছু বললেন আছে ওর রেজিস্টারটা একটা শটগান থেকে মুহূর্তের জন্যেও ভালমত দেখবে ভেবেছে জিনা মুসাকে থামতে দেখে আমি জানি… সেজন্যেই কাল জ্যাকের দু’জনেই লম্বা লেজ নেড়ে বলল কটেজের ভেতরে এক শিকারে গিয়ে ওদের পা রাখলাম ওটাতে কি আছে নিশ্চয় \n",
      "Start word: থেকে\n",
      "2-gram sentence:\n",
      "থেকে গিয়ে জলাভূমির দিকে একদৃষ্টে চেয়ে মৃদু বাউ করল কিশোর বলল কিশোর আমরা যে গঙ্গরিডই রাজত্বের লোপ হইয়া সুদূর মহাশূন্যে ভেসে উঠতে সাহায্য করল ‘তা আর কিছু বুঝে গেছে যখন তুলল জিনা খোলা হয়েছে কাজেই আমি আমি তো কাছে হেঁটে চললাম রাস্তা ধরে জানালা দিয়ে না স্বস্তির নিঃশ্বাস ফেলল ডানা \n"
     ]
    }
   ],
   "source": [
    "for i in range(5):\n",
    "    word = radominitword()\n",
    "    print(f\"Start word: {word}\")\n",
    "    print(\"2-gram sentence:\")\n",
    "    get2GramSentenceRandom(word)\n",
    "    print(\"\")"
   ]
  },
  {
   "cell_type": "markdown",
   "id": "8607fe91-dcc6-4696-ac2a-9499e3ffaaab",
   "metadata": {},
   "source": [
    "##### Now a general function that can make any n gram"
   ]
  },
  {
   "cell_type": "code",
   "execution_count": 14,
   "id": "d1ece66d-c928-4f2a-b95b-9778ca4dce16",
   "metadata": {},
   "outputs": [
    {
     "name": "stdout",
     "output_type": "stream",
     "text": [
      "[(('ফিসফিস', 'করে', 'বলল'), 32), (('চিৎকার', 'করে', 'উঠল'), 27), (('বলে', 'উঠল', 'মুসা'), 25), (('খুঁজে', 'বের', 'করতে'), 23), (('বুঝতে', 'পারছি', 'না'), 19), (('জবাব', 'দিল', 'না'), 17), (('দিকে', 'তাকিয়ে', 'আছে'), 17), (('পারল', 'না', 'মুসা'), 17), (('জিজ্ঞেস', 'করল', 'কিশোর'), 17), (('থেকে', 'বেরিয়ে', 'এল'), 17), (('মনে', 'হয়', 'না'), 16), (('মাথা', 'ঝাঁকাল', 'কিশোর'), 16), (('দেরি', 'হয়ে', 'গেছে'), 16), (('প্রশ্ন', 'করল', 'কিশোর'), 16), (('আমার', 'দিকে', 'তাকিয়ে'), 16), (('করতে', 'পারছে', 'না'), 15), (('জানতে', 'চাইল', 'রবিন'), 15), (('কোন', 'সন্দেহ', 'নেই'), 15), (('দেখে', 'মনে', 'হলো'), 15), (('দিকে', 'তাকাল', 'কিশোর'), 14)]\n"
     ]
    }
   ],
   "source": [
    "def generateNgram(n=1):\n",
    "    gram = {}\n",
    "\n",
    "    # Populate N-gram dictionary\n",
    "    for i in range(len(txtlst) - (n - 1)):\n",
    "        key = tuple(txtlst[i:i+n])\n",
    "        if key not in gram:\n",
    "            gram[key] = 0\n",
    "        gram[key] += 1\n",
    "\n",
    "    # Turn into a list of (word, count) sorted by count from most to least\n",
    "    gram = sorted(gram.items(), key=lambda x: -x[1])\n",
    "    return gram\n",
    "\n",
    "trigram = generateNgram(3)\n",
    "# Print top 20 most frequent ngrams\n",
    "print(trigram[:20])"
   ]
  },
  {
   "cell_type": "markdown",
   "id": "27e86d35-365f-4d71-8969-c6b5da209eb2",
   "metadata": {},
   "source": [
    "##### Final step we build a function that generates ngram sentences"
   ]
  },
  {
   "cell_type": "code",
   "execution_count": 15,
   "id": "6344cdb6-fe85-4c67-aeb4-cc6c777210db",
   "metadata": {},
   "outputs": [],
   "source": [
    "def getNGramSentenceRandom(gram, word, n=50):\n",
    "    for i in range(n):\n",
    "        print(word, end=' ')\n",
    "        # Get all possible elements ((first word, second word), frequency)\n",
    "        choices = [element for element in gram if element[0][0] == word]\n",
    "        if not choices:\n",
    "            break\n",
    "        word = weighted_choice(choices)[1]"
   ]
  },
  {
   "cell_type": "markdown",
   "id": "28709897-a8f4-4122-be95-0362a6e8e13a",
   "metadata": {},
   "source": [
    "##### Testing it out."
   ]
  },
  {
   "cell_type": "code",
   "execution_count": 16,
   "id": "f5ce9bd6-995d-4c4a-8e63-050324a7eaed",
   "metadata": {},
   "outputs": [
    {
     "name": "stdout",
     "output_type": "stream",
     "text": [
      "\n",
      "Generating 2-gram list... Done\n",
      "\n",
      "  2-gram:   ‘ওর একটা ডায়াল ঘুরিয়ে চাইল কিশোর ‘নিশ্চয়ই’ জোর করে উঠল ‘মিস্টার বগি’ গলা ছেড়ে দাও হোমওয়র্ক করেনি’ বলল কিশোর ‘হ্যাঁচ্চো’ ম্যাকনামারা পিছিয়ে গেলাম আমি ওদের মাত্র কয়েক মিনিট জিনা আর \n",
      "\n",
      "  2-gram:   বলল ডানা আর কোন সম্পর্ক নেই অস্তিত্ব নেই বলল কিশোর দীর্ঘশ্বাস ফেলল মহিলা মুহূর্তের জন্য সর্বদাই তাঁহারা যে রকম ছিল না টোম্যান দর্শকদের উদ্দেশ্যে বাউ করল লোগোটা ওদের কারও রেকর্ড \n",
      "\n",
      "  2-gram:   করবে জীবিত ফিরবে মনে মনে হয় নাকি ওকে ‘বসে পড়ো আড়মোড়া ভাঙল কীভাবে ঠিক তাই বেশি ছবি তোলার জন্য দৌড়ে এল সেঘরে তাক করেছে খুব ভাল ম্যাসাজ করাতে যখন এতে \n",
      "\n",
      "  2-gram:   চিনি’ জিজ্ঞেস করল ড্রাইভার ভুল ছিল এই যুগের লোক হাতে কন্ট্রোল ধরে সেই এমনি বাদুড়ের ঝাক বেঁধে বললেন ওদেরকে খুব ভাল হয়ে গেছে কি হলো হাইড্রোপ্লেনের তলায় দানব’ বলল এই \n",
      "\n",
      "\n",
      "Generating 3-gram list... Done\n",
      "\n",
      "  3-gram:   ছিলেন আপনি আমার ছয় ‘কিলার ওখান থেকে স্কেট দুটো বাইরে পা বাড়াল দুই যুগকে যথাক্রমে প্রত্নপ্রস্তর ও ‘কী’ জিজ্ঞেস করে সাড়ে এগারোটার আগে যেখানে আমাদের সঙ্গে মিশিয়া যায় নব্য প্রস্তর \n",
      "\n",
      "  3-gram:   করল ও কোনদিনও শোধ করে খবর দেয়া যায় না গ্যারেজে একটা ঘুম হলো বার্নারের ‘থাক আর বসে আছেন তো দাও ওর নামের আগে কিছু করিনি’ বলল রবিন বুকের মধ্যে লুকিয়ে \n",
      "\n",
      "  3-gram:   ‘যাই থাক এখানে আসেন ফরেস্ট হচ্ছে… কিশোর ‘সাবধান’ বললেন খিলখিল করে মিশে থাকে এতবড় একটা ঝোপে ঘেরা নীচে রাত বারোটা বাজতে কয়েক কদম পেছনে পাশ ডুবে আছেন যাও আমি তিনজন \n",
      "\n",
      "  3-gram:   বাচ্চাদের ছুটোছুটি করা তার সঙ্গে যোগাযোগ করার নেই তোমাদেরকে ধন্যবাদ বলল সাবধান মুসা ও ‘ভিতরে ঢোকো’ চিৎকার করছে না কিশোর বাতাসের গতিতে ছুটে আসার পর এটাকে পরিচিত হব’ ‘ওরা কারা’ \n",
      "\n",
      "\n",
      "Generating 4-gram list... Done\n",
      "\n",
      "  4-gram:   মুসা ‘আমরা যদি রেখে যাওয়ার ভয়টা দেখালাম ‘আসলে হয়েছে এমন খাওয়াই খেয়েছি পেট চেপে ধরে কাশতে লাগলেন উদ্বিগ্ন কণ্ঠ কানে এসেছিল যে আসল পরিচয় হলো’ চেঁচিয়ে উঠল রোদ পড়েছে কোন \n",
      "\n",
      "  4-gram:   হবে রব মিশেলও রয়েছে ওটার কথা মনে মনে পড়েছে নয়তো মুসা তাড়াতাড়ি আসুন আমাদের ভয় দেখা করে এখানে কিন্তু… অপেক্ষা করবে’ ভয়ার্ত কণ্ঠে মৃদু গুঞ্জন বেঁচে থাকছে ব্ল্যাক ফরেস্ট সম্পর্কে \n",
      "\n",
      "  4-gram:   না’ রাস্টি কালাহাল ও কিন্তু কেন’ ‘সেকৈফিয়ত কি ঘটিয়ে বেরোতে পারে তাঁর চোখ রাখল আগের জায়গাতেই আছে দরজা দেখে আসার কথা বলে আর কোন লোকের কর্মসংস্থানও হবে খাওয়া উচিত তাহলে \n",
      "\n",
      "  4-gram:   যে ডেকে দেব ওঁকে আমি গাছগাছড়া রাখি এখন তুমি বলতে গিয়ে দেয়ালে ঠেস দিয়ে ওদের সেভাবেই তুলে প্রায় ফাঁকা জমিতে লাগালে ঘাসগুলো মারা যায় নিম্নে তাহা জানিবার কোনো পৃথক সত্তা \n",
      "\n",
      "\n",
      "Generating 5-gram list... Done\n",
      "\n",
      "  5-gram:   ডেস্কে রাখা একটা আম ছুঁড়ে ফেলল ও মুসার প্রশ্ন বলল ‘ভুলটা নিশ্চয় যাওনি তুমি বাগান ভাঙতে আসছে বিপদ হতে পারে অনিশ্চিত ভঙ্গিতে জবাব না কারও সবাই খুঁজছে মুসা ‘তা বটে \n",
      "\n",
      "  5-gram:   জায়গায় একটা কফিন ছেড়ে দিল কিশোর সাবধান করল বলে অরণ্যের ছবি আছে’ ‘আছে’ হ্যারিস খুঁটির মাথায় ঢুকল ফায়ার হাতের টানে সরানোর জন্য অপেক্ষা করবে’ হেসে বলল ফায়েজা গেল টেরেসা নানু \n",
      "\n",
      "  5-gram:   গাদাগাদি করে উঠল রবিন আর এখন এলিগেটরের বাসা ডিমগুলো হাসি ফুটল সেটি গত রাতে আমাকে কেমন হালকা এয়ারবোটকে এগোতে এগোতে শুরু করল নিজের বাজার পাঁচ মিনিট বাদে ফিরে গেলে ওকে \n",
      "\n",
      "  5-gram:   চাই না মিস্টার সেভারন অস্বস্তিতে ঘুমাতে পেরেছ নীরবে কাঁদতে শুরু হলো ড্রাইভারের চোখে চেয়ারে বসে আড়মোড়া ভাঙল মুসাদের বাড়ির বসার ঘরে ঢুকলেন মিস্টার ওয়েভারলি মল ওর রাখতে বলছেন বার্নার তারমানে \n",
      "\n",
      "\n",
      "Generating 6-gram list... Done\n",
      "\n",
      "  6-gram:   গ্লাসের দুধ খাইয়ে দিল ওটা পুরুষদের চামড়ার রঙ করা হচ্ছে কিটি হাতে লাগতে আবার বেফাঁস কিছু একটা উন্মাদ লোকটাকে কোথায় তাই বলেছে ম্যারিনায় সাগরপাড়ে তৈরি চওড়া বন্ধুত্বপূর্ণ হেসে উঠল ক্রিসি \n",
      "\n",
      "  6-gram:   ফাঁকি দিয়ে গাছপালার জটলায় থেমে দাঁড়ালাম পরনে ড্রেসি প্যান্ট আর ডেনভার বলল ‘তুমি যতটা সম্ভব ছুটছি না হাসপাতালেও না জিজ্ঞেস করল কিশোর ‘জঙ্গলের মধ্যে ফায়েজা কিলারও ওদিকে কাছে এসে দাঁড়াল \n",
      "\n",
      "  6-gram:   দেখল কিন্তু এই উইকএণ্ডের টিকেট পাঠানো যাবে ওরা’ ‘হয়তো বগিম্যান ম্যাকনামারার সঙ্গে মিল আছে বলে দেয়াটা ওদের পিছনে কোনও উপায় হলো ওদের দিক থেকে চাচা বলল মুসা ‘দেখো মুসা ওরা \n",
      "\n",
      "  6-gram:   ছাড়ল না কথা বলতে হলে আপনাকে বলেছিলাম’ ‘এই কী পেয়েছি সেটা উঠে এল রাস্টি বলল মাথা দোলাল কিশোর হ্যাঁ কেবল এইভাবেই তোমাদের কে টানাটানি শুরু করল মুসা আমাকে কেমন যেন \n",
      "\n",
      "\n",
      "Generating 7-gram list... Done\n",
      "\n",
      "  7-gram:   পেরেকটা পাওয়া কঠিন প্রথমটায় পড়তে লাগল কিলারের পিছনে একটা শুকনো পাতা দেখে নিল সময় বাইরে থেকে নেমে এল খাওয়ার জন্য ফায়েজাকে দেখল দুধের বোতলগুলো তুলে নিলেন তিনি পলাইয়া আসিয়া বঙ্গদেশের \n",
      "\n",
      "  7-gram:   এখানে থাক সকালের নাস্তার টেবিলে নাস্তা সারছে ‘আমরা একটা জায়গাকে পার্কিং লটের পাশে এক গাছে না সোফির আম্মা হালো রবিন ঝুঁকে থাকা লাশের ওপর যে লোকটাকে দেখে হাত বাড়াল প্যান্টের \n",
      "\n",
      "  7-gram:   ছাড়িয়ে নেবার চেষ্টা করল মুসার পাশে চুপচাপ তাকিয়ে দেখল ফায়েজা নিজেকে তোমার ওপরই পরীক্ষা করল একটা অদ্ভুত চিঠিটার সঙ্গে বন্ধুত্ব করার কথা মনে হয়েছিল ওদেরকে এদিকে এই প্রথম পেয়েছে ফায়েজা \n",
      "\n",
      "  7-gram:   আমার ‘সেগুলো কিনতে যাচ্ছি সেখানে দু’ ভাইবোনের কাপড় দিয়ে নৌকাটাকে ডাঙায় উঠল ঘড়িটা ছিল আপনার খবর পেয়েছি হলুদ সিন্দুর প্রভৃতির ব্যবহার করিত তাঁহার আলোচনা করতে হবে ওখানকার একটা বিড়ি’ ‘আমি \n",
      "\n",
      "\n",
      "Generating 8-gram list... Done\n",
      "\n",
      "  8-gram:   মেরে বসল ছেলেমেয়েরা ‘দারুণ চমক’ বলে উঠল মারলা তারপর বললাম হ্যাঁ ও তারপর পানিতে অর্ধেক ডাঙায় ‘ও না হাসপাতালেও না মুখ ফিরিয়ে ডাকলেন আমার জন্য ঘুরে দেখতে পাচ্ছি না ওরা \n",
      "\n",
      "  8-gram:   একটু ভাল করেই ছবিটা আরও একটা ফোন লাইন লেখা ধন্যবাদ আপনাকে কয়েকটা জিনিস দেখতে পেল ঘুরে দাঁড়িয়ে আছে কিন্তু এখন বল নেই ডাকাতগুলো তীর ঘেঁষে আর ঝামেলা বাড়াবে শুধু বের \n",
      "\n",
      "  8-gram:   মিস্টার সেভারন সেটা কি ওদের দিকে চেয়ে থাকবে তোমাদের বাড়ি থেকে লাশ গায়েব হয়ে যায় ভূতের উপদ্রব আছে নাকি দেখুন কীভাবে ঘটছেএসব তো লেগে চমৎকার সব খুনেরই মোটিভ এবং রাঢ়ের \n",
      "\n",
      "  8-gram:   ভয় লাগে আমার শরীর মুচড়ে পিছনে দৌড়াও সোজা ছুঁড়ে দিল কিশোর ‘এবং সেজন্যেই সম্ভবত ওদের জন্য একটা কালো পোশাক পরেনি ক্লডিয়া সোফি মারলা অহেতুক নিজেদের সন্তানদের কেউ কে আপনার ফোনটা \n",
      "\n",
      "\n",
      "Generating 9-gram list... Done\n",
      "\n",
      "  9-gram:   মুসার কাঁধে তুলে জানালা দুটো প্ল্যান করে চলে যাবার সময় যেকোনও বিপদ থেকে চিঠির কপি করে চললেন তিনি লোকটির পরনে লম্বা পরনে কালো আবছামত একটা এয়ারবোটে করে শুনছে হাতের তালুতে \n",
      "\n",
      "  9-gram:   ঠোঁটের ছোঁয়া নেই ভ্যাম্পায়ারে খুন করো তিনি ‘কিন্তু এই আবদার করব জানি কথা বলতে লাগলাম অল্পঅল্প কাঁপছে পাশ দিয়ে বেরোনোর সময় নেই কাজেই তোমার ভাগ্য জানার চেষ্টা করত সে কারণ \n",
      "\n",
      "  9-gram:   নাকি সমস্যাটা এখন থেকে কার্তুজের খোসা হাতে একটা অদৃশ্য দরজায় কাচকোচ করে এনেছি এটা অবাস্তব হলেও একশো বছর বেড়ে গেল না পায় কে হুকুম পালন করছি না… কেঁপে গেল আলো \n",
      "\n",
      "  9-gram:   হবে’ প্রশ্ন ‘না নেই’ বিলের বন্ধু ওক গাছের আরও বেশি করে মানসিক অবস্থাও সুবিধের না কিশোর কোথায় আছে… রাগ হয়েছিল ওর দিকে দরজার দিকে তাকাল রিকি শর কিশোর টর্চ আনার \n",
      "\n"
     ]
    }
   ],
   "source": [
    "for n in range(2, 10):\n",
    "    # Generate ngram list\n",
    "    print()\n",
    "    print(f\"Generating {n}-gram list...\", end=' ')\n",
    "    ngram = generateNgram(n)\n",
    "    print(\"Done\")\n",
    "    \n",
    "    print(\"\")\n",
    "    \n",
    "    # Try out a bunch of sentences\n",
    "    for i in range(4):\n",
    "        word = radominitword()\n",
    "        print(f\"  {n}-Gram:  \", end=' ')\n",
    "        getNGramSentenceRandom(ngram, word, 30)\n",
    "        print(\"\")\n",
    "        print(\"\")\n",
    "        "
   ]
  }
 ],
 "metadata": {
  "kernelspec": {
   "display_name": "Python 3 (ipykernel)",
   "language": "python",
   "name": "python3"
  },
  "language_info": {
   "codemirror_mode": {
    "name": "ipython",
    "version": 3
   },
   "file_extension": ".py",
   "mimetype": "text/x-python",
   "name": "python",
   "nbconvert_exporter": "python",
   "pygments_lexer": "ipython3",
   "version": "3.9.12"
  }
 },
 "nbformat": 4,
 "nbformat_minor": 5
}
