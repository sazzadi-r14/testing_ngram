{
 "cells": [
  {
   "cell_type": "markdown",
   "id": "f969186c-df4c-4b14-ab50-96bf5e3529d0",
   "metadata": {},
   "source": [
    "# Generating Bangla Sentences using Ngrams"
   ]
  },
  {
   "cell_type": "markdown",
   "id": "39dbe629-55fe-4f61-87e3-3aa09fe7dc02",
   "metadata": {},
   "source": [
    "##### Importing all the important modules"
   ]
  },
  {
   "cell_type": "code",
   "execution_count": 1,
   "id": "a09888bc-1da2-4cbb-8785-943a74c65ec0",
   "metadata": {
    "tags": []
   },
   "outputs": [],
   "source": [
    "import sys\n",
    "import sets\n",
    "import random"
   ]
  },
  {
   "cell_type": "markdown",
   "id": "2738849c-f84d-4c49-991c-dc6b0227bd56",
   "metadata": {},
   "source": [
    "##### This cell makes a string of all the texts from the file"
   ]
  },
  {
   "cell_type": "code",
   "execution_count": 2,
   "id": "8f59eda2-4c45-46be-b358-1d19b59f8865",
   "metadata": {},
   "outputs": [],
   "source": [
    "txt = \"\"\n",
    "with open(\"data.txt\", encoding = 'utf-8') as f:  # We Have to use the encdoign argument, or else it does not recognize Bangla\n",
    "    for line in f:\n",
    "        # Strips the line brekas from the end of the lines\n",
    "        line = line.strip()  \n",
    "        # Concatenates the line to the txt string\n",
    "        txt += line + ' '  "
   ]
  },
  {
   "cell_type": "markdown",
   "id": "39b9993e-e93f-45b2-a3b6-75340a92b0ad",
   "metadata": {},
   "source": [
    "##### This cell cleans up all the punctuation, english word, and grabage space from the string."
   ]
  },
  {
   "cell_type": "code",
   "execution_count": 3,
   "id": "09ac9723-d98b-4ad9-b5af-5325abfb6cdf",
   "metadata": {},
   "outputs": [
    {
     "name": "stdout",
     "output_type": "stream",
     "text": [
      "139001\n"
     ]
    }
   ],
   "source": [
    "# A string of everything we want to omit\n",
    "punc = \"aAbBcCdDeEfFgGhHiIjJkKlLmMnNoOpPqQrRsStTuUvVwWxXyYzZ,!?;।:—:--/\"  \n",
    "\n",
    "# Loop through the entire string and omits the garbage values\n",
    "for ch in txt:  \n",
    "    if ch in punc:\n",
    "        txt = txt.replace(ch, \"\")\n",
    "\n",
    "# Makes a list of all the words\n",
    "txtlst = txt.split(\" \")  \n",
    "\n",
    "# Gets rid of all the garbage spaces in the list\n",
    "for elem in txtlst:  \n",
    "    if elem == '':\n",
    "        txtlst.remove(elem)\n",
    "        \n",
    "print(len(txtlst))"
   ]
  },
  {
   "cell_type": "markdown",
   "id": "849bb908-06b1-4a6c-a81f-64f9c5d194fe",
   "metadata": {},
   "source": [
    "##### This cell converts the list into a set of Gram-1. The main purpose of this is to erdicate duplicates."
   ]
  },
  {
   "cell_type": "code",
   "execution_count": 4,
   "id": "1625aed7-bfc9-45dd-bed9-86ca6081a512",
   "metadata": {},
   "outputs": [
    {
     "name": "stdout",
     "output_type": "stream",
     "text": [
      "16652\n",
      "পাশার মতই\n",
      "মতই অনুভূতি\n",
      "অনুভূতি হচ্ছে\n",
      "হচ্ছে এবং\n",
      "এবং আমার\n",
      "আমার জন্য\n",
      "জন্য সেটাই\n",
      "সেটাই যথেষ্ট\n",
      "যথেষ্ট \n"
     ]
    }
   ],
   "source": [
    "# Creates a set of all the words, and removes the duplicates.\n",
    "gram1 = set(txtlst)  \n",
    "print(len(gram1))\n",
    "\n",
    "# Testing out the list to build pairs by printing copies. \n",
    "for i in range(len(txtlst) - 10, len(txtlst) - 1):\n",
    "    print(txtlst[i], txtlst[i + 1])"
   ]
  },
  {
   "cell_type": "markdown",
   "id": "77b4ca83-95ba-48fe-99dd-e91061093ad7",
   "metadata": {},
   "source": [
    "##### This cell use to make 2Grams in an analogous manner"
   ]
  },
  {
   "cell_type": "code",
   "execution_count": 5,
   "id": "dc3a09fb-b0fa-419a-812a-964c326cd143",
   "metadata": {},
   "outputs": [
    {
     "name": "stdout",
     "output_type": "stream",
     "text": [
      "139000\n"
     ]
    }
   ],
   "source": [
    "# Declaring an empty list to use later.\n",
    "word_pairs = []  \n",
    "\n",
    "# Loops through the entire list and returns a list of tuples containing consecutive pairs\n",
    "for i in range(len(txtlst) - 1):  \n",
    "    word_pairs.append((txtlst[i], txtlst[i + 1]))\n",
    "print(len(word_pairs))\n",
    "\n",
    "# Creating a set to remove the duplicates.\n",
    "gram2 = set(word_pairs)  "
   ]
  },
  {
   "cell_type": "markdown",
   "id": "6e34b306-d911-45ea-823c-fcf257ef81db",
   "metadata": {},
   "source": [
    "##### This cell used to make frequency dictionary from 1-Grams."
   ]
  },
  {
   "cell_type": "code",
   "execution_count": 6,
   "id": "9413846f-ed69-4afc-b3bd-59901b6c59e0",
   "metadata": {},
   "outputs": [
    {
     "name": "stdout",
     "output_type": "stream",
     "text": [
      "[('না', 2482), ('করে', 1706), ('মুসা', 1308), ('বলল', 1209), ('আর', 1058), ('কিশোর', 1046), ('একটা', 975), ('থেকে', 930), ('দিকে', 890), ('করল', 824), ('দিয়ে', 810), ('গেল', 796), ('রবিন', 778), ('আমার', 771), ('হয়ে', 709), ('আমি', 657), ('কি', 615), ('ও', 605), ('দিল', 577), ('আছে', 577)]\n"
     ]
    }
   ],
   "source": [
    "# Declaring an empty dictionary to use later.\n",
    "gram1_dict = {}  \n",
    "\n",
    "# Loops through the list and creates a frequency map of all the words\n",
    "for word in txtlst:  \n",
    "    if word not in gram1_dict:\n",
    "        gram1_dict[word] = 0\n",
    "    gram1_dict[word] += 1 \n",
    "\n",
    "# Using list comprehension to sort the list in descending order of highest frequency\n",
    "gram1_dict = sorted(gram1_dict.items(), key=lambda x: x[1], reverse=True)  \n",
    "print(gram1_dict[:20])"
   ]
  },
  {
   "cell_type": "code",
   "execution_count": 7,
   "id": "04a63c00-02c0-4fd2-8377-d6cb056ea9d6",
   "metadata": {},
   "outputs": [
    {
     "name": "stdout",
     "output_type": "stream",
     "text": [
      "1-Gram: না করে মুসা বলল আর কিশোর একটা থেকে দিকে করল দিয়ে গেল রবিন আমার হয়ে আমি কি ও দিল আছে "
     ]
    }
   ],
   "source": [
    "localvar = 0\n",
    "print(\"1-Gram:\" + \" \",  end= '')\n",
    "for key in gram1_dict:\n",
    "    print(key[0] + \" \",  end= '')\n",
    "    localvar += 1\n",
    "    if localvar == 20:\n",
    "        break"
   ]
  },
  {
   "cell_type": "markdown",
   "id": "e703740c-03e4-4ca3-9876-7a0812dd6926",
   "metadata": {},
   "source": [
    "##### This cell is used to make frequency dictionary of 2-Grams."
   ]
  },
  {
   "cell_type": "code",
   "execution_count": 8,
   "id": "7f8848e1-2998-442f-a261-2f2ced57af7f",
   "metadata": {},
   "outputs": [
    {
     "name": "stdout",
     "output_type": "stream",
     "text": [
      "[(('বলল', 'কিশোর'), 160), (('শুরু', 'করল'), 155), (('বলল', 'মুসা'), 152), (('জিজ্ঞেস', 'করল'), 130), (('দিকে', 'তাকিয়ে'), 122), (('বলল', 'রবিন'), 122), (('হয়ে', 'গেল'), 113), (('হয়ে', 'গেছে'), 112), (('মনে', 'হলো'), 104), (('মিস্টার', 'সেভারন'), 93), (('মনে', 'হয়'), 91), (('আমার', 'দিকে'), 86), (('জবাব', 'দিল'), 85), (('বের', 'করে'), 84), (('কিশোর', 'বলল'), 84), (('করল', 'মুসা'), 83), (('করল', 'কিশোর'), 83), (('প্রশ্ন', 'করল'), 80), (('দিল', 'মুসা'), 77), (('না', 'মুসা'), 75)]\n"
     ]
    }
   ],
   "source": [
    "# Declaring an empty dictionary to use later.\n",
    "gram2_dict = {}  \n",
    "\n",
    "# Loops through the list and creates a frequency map of all the word pairs.\n",
    "for i in range(len(txtlst) - 1):  \n",
    "    key = (txtlst[i], txtlst[i + 1])\n",
    "    if key not in gram2_dict:\n",
    "        gram2_dict[key] = 0\n",
    "    gram2_dict[key] += 1 \n",
    "\n",
    "    # Using list comprehension to sort the list in descending order of highest frequency.  \n",
    "gram2_dict = sorted(gram2_dict.items(), key=lambda x: x[1], reverse=True)  \n",
    "print(gram2_dict[:20])"
   ]
  },
  {
   "cell_type": "markdown",
   "id": "805f4b65-5ca5-4483-9bbb-e0a0bcfb8a12",
   "metadata": {},
   "source": [
    "##### This cell is used to make the fucntion that would be used later for getting a random starting word."
   ]
  },
  {
   "cell_type": "code",
   "execution_count": 9,
   "id": "2e5493cf-b14c-4a31-bf57-97d164841fc0",
   "metadata": {},
   "outputs": [],
   "source": [
    "def radominitword():\n",
    "    random_index = random.randint(0, len(txtlst))  # Gets a random index from the list\n",
    "    start_word = txtlst[random_index]\n",
    "    return start_word"
   ]
  },
  {
   "cell_type": "code",
   "execution_count": 10,
   "id": "0f557f25-e52e-4187-917d-b053af96d4da",
   "metadata": {},
   "outputs": [
    {
     "name": "stdout",
     "output_type": "stream",
     "text": [
      "Start word: দিল\n",
      "2-gram sentence:\n",
      "দিল মুসা বলল কিশোর বলল কিশোর বলল কিশোর বলল কিশোর বলল কিশোর বলল কিশোর বলল কিশোর বলল কিশোর বলল কিশোর "
     ]
    }
   ],
   "source": [
    "def get2GramSentence(word, n = 50):\n",
    "    for i in range(n):\n",
    "        \n",
    "        # For every iteration of the loop prints the next most probable word\n",
    "        print(word, end=\" \")  \n",
    "        \n",
    "        # Uses the next system to go through the entire dict and find the next word, and if it can not find anything returns None.\n",
    "        word = next((element[0][1] for element in gram2_dict if element[0][0] == word), None)   \n",
    "        \n",
    "        # If it gets a None, it breaks the function\n",
    "        if not word:  \n",
    "            break  \n",
    "\n",
    "            \n",
    "word = radominitword()\n",
    "print(f\"Start word: {word}\")\n",
    "print(\"2-gram sentence:\")\n",
    "get2GramSentence(word, 20)"
   ]
  },
  {
   "cell_type": "markdown",
   "id": "1ffe0dbb-4f16-41d1-a15d-8b30ee249964",
   "metadata": {},
   "source": [
    "##### Now we build a better function that chooses one randomly, but considers higher weight, and test it out again."
   ]
  },
  {
   "cell_type": "code",
   "execution_count": 11,
   "id": "251001f0-e022-4e78-9a07-ddc3a988b344",
   "metadata": {},
   "outputs": [],
   "source": [
    "def weighted_choice(choices):\n",
    "   total = sum(w for c, w in choices)\n",
    "   r = random.uniform(0, total)\n",
    "   upto = 0\n",
    "   for c, w in choices:\n",
    "      if upto + w > r:\n",
    "         return c\n",
    "      upto += w"
   ]
  },
  {
   "cell_type": "markdown",
   "id": "2c2c87d5-65d7-464e-a673-f74a523b8903",
   "metadata": {},
   "source": [
    "##### Now we test the new approach out."
   ]
  },
  {
   "cell_type": "code",
   "execution_count": 12,
   "id": "04122647-7eea-4656-a140-a95dac7b5663",
   "metadata": {},
   "outputs": [],
   "source": [
    "def get2GramSentenceRandom(word, n = 50):\n",
    "    for i in range(n):\n",
    "        print(word, end=\" \")\n",
    "        # Get all possible elements ((first word, second word), frequency)\n",
    "        choices = [element for element in gram2_dict if element[0][0] == word]\n",
    "        if not choices:\n",
    "            break\n",
    "        # Choose a pair with weighted probability from the choice list\n",
    "        word = weighted_choice(choices)[1]\n"
   ]
  },
  {
   "cell_type": "code",
   "execution_count": 13,
   "id": "2c945378-4f3e-4166-ab65-dba273b36efe",
   "metadata": {},
   "outputs": [
    {
     "name": "stdout",
     "output_type": "stream",
     "text": [
      "Start word: তাকিয়েই\n",
      "2-gram sentence:\n",
      "তাকিয়েই কাঁধে ‘ওটা এক্ষুণি দেখছি মানুষজন হয়তো মাকে গুডবাই মুসা একা আবার মিলিত হলো লিস্টটা একবার ঘুরে দাঁড়িয়ে আছে কিশোর পর্দা ফাঁক হয়ে গেছে কিন্তু ঘড়িতে দেখে ও আৰ্য প্রভাব বাংলায় ব্যবহৃত অনেক বেশি সময় লাগল কিশোর ফায়ার এসকেপটার নিচে নুড়ির পরিমাণ উত্তেজনা যাচ্ছে চেহারা আর কেউ আপনার বাড়ির ওপর \n",
      "Start word: মুসা\n",
      "2-gram sentence:\n",
      "মুসা রাতে কোন খোঁজ পাওয়া গেল কোম্পানির বর্তমান মালকিন মিসেস ব্রেক ফেল করেছিল না কিটি ‘মনে হয় হবে এবং শিশুর নাম ছিল না কেন করবে সবারই জানা আছে যেন হতাশ হয়েছেন গুজ বার্নার কোথায়’ জানতে এসেছ ইয়াং ম্যান ক্রুদ্ধ ফিসফিসানি মিলে আমাদের আলোচনা আটকে দেয় এখানকার ছাত্র না বিদায় দিল \n",
      "Start word: করে\n",
      "2-gram sentence:\n",
      "করে সোয়াম্পল্যান্ড গুডসএ পৌঁছল ওরা জানল ও ‘মাটিতে গাছের আওতার বাইরে না ফায়েজা সোজা বাড়ি গিয়েছিল ও ওখানকার একটুকরো জমি কিনতে গিয়ে কেঁপে গেল লোকটা ‘আজব কিটি’ রবিনের কণ্ঠ ফিরে জিনাকে শহরে সবাই সেই ক্ষুরধার ভোজালি স্পর্শ করেছে সেটার কথা বলে দিয়েছেন ভাল ঘটায় কিনা দেখব’ ‘কাটাতে হবে না কাছের \n",
      "Start word: সঙ্গে\n",
      "2-gram sentence:\n",
      "সঙ্গে সঙ্গে পরিচয় জানে কোথায় তুমি ভ্যান পার্ক করে দেবে কে এ ধরনের সানট্যান ব্যবহার করিত এই নামগুলি সাধারণত এধরনের ছবি স্যাণ্ডউইচটা মাটিতে পা ঘষে চলেছে স্পিডবোট উঠে পড়ল বাইরের কেউ ঢুকছে না উঠলেই কেবল জিনাকে বিশ্বাস করার সামারহাউস দিয়ে আসতে থমকে গেলাম কেন মা কাঠবিড়ালি আর টাকা আছে করছি \n",
      "Start word: যাওয়ার\n",
      "2-gram sentence:\n",
      "যাওয়ার পর গাড়ির এঞ্জিন স্টার্ট নিল রবিন জেরির চিহ্ন বুঝতেই পারবে চোখের ইশারা করল হ্যাটটা সাদা দাঁত বের করে জ্যাকের সেল ফোনটা বের করে দেখছ না হাতের তালুতে তেল দিলেই আমি মুসা পেছন পেছনই ঢুকল সে চোখ ওপরে উঠতে থাকলে লাফ দিয়ে ধরে এগিয়ে যাওয়া যাবে’ এ কথাটা হচ্ছে আমরা \n"
     ]
    }
   ],
   "source": [
    "for i in range(5):\n",
    "    word = radominitword()\n",
    "    print(f\"Start word: {word}\")\n",
    "    print(\"2-gram sentence:\")\n",
    "    get2GramSentenceRandom(word)\n",
    "    print(\"\")"
   ]
  },
  {
   "cell_type": "markdown",
   "id": "8607fe91-dcc6-4696-ac2a-9499e3ffaaab",
   "metadata": {},
   "source": [
    "##### Now a general function that can make any n gram"
   ]
  },
  {
   "cell_type": "code",
   "execution_count": 14,
   "id": "d1ece66d-c928-4f2a-b95b-9778ca4dce16",
   "metadata": {},
   "outputs": [
    {
     "name": "stdout",
     "output_type": "stream",
     "text": [
      "[(('ফিসফিস', 'করে', 'বলল'), 32), (('চিৎকার', 'করে', 'উঠল'), 27), (('বলে', 'উঠল', 'মুসা'), 25), (('খুঁজে', 'বের', 'করতে'), 23), (('বুঝতে', 'পারছি', 'না'), 19), (('জবাব', 'দিল', 'না'), 17), (('দিকে', 'তাকিয়ে', 'আছে'), 17), (('পারল', 'না', 'মুসা'), 17), (('জিজ্ঞেস', 'করল', 'কিশোর'), 17), (('থেকে', 'বেরিয়ে', 'এল'), 17), (('মনে', 'হয়', 'না'), 16), (('মাথা', 'ঝাঁকাল', 'কিশোর'), 16), (('দেরি', 'হয়ে', 'গেছে'), 16), (('প্রশ্ন', 'করল', 'কিশোর'), 16), (('আমার', 'দিকে', 'তাকিয়ে'), 16), (('করতে', 'পারছে', 'না'), 15), (('জানতে', 'চাইল', 'রবিন'), 15), (('কোন', 'সন্দেহ', 'নেই'), 15), (('দেখে', 'মনে', 'হলো'), 15), (('দিকে', 'তাকাল', 'কিশোর'), 14)]\n"
     ]
    }
   ],
   "source": [
    "def generateNgram(n=1):\n",
    "    gram = {}\n",
    "\n",
    "    # Populate N-gram dictionary\n",
    "    for i in range(len(txtlst) - (n - 1)):\n",
    "        key = tuple(txtlst[i:i+n])\n",
    "        if key not in gram:\n",
    "            gram[key] = 0\n",
    "        gram[key] += 1\n",
    "\n",
    "    # Turn into a list of (word, count) sorted by count from most to least\n",
    "    gram = sorted(gram.items(), key=lambda x: -x[1])\n",
    "    return gram\n",
    "\n",
    "trigram = generateNgram(3)\n",
    "# Print top 20 most frequent ngrams\n",
    "print(trigram[:20])"
   ]
  },
  {
   "cell_type": "markdown",
   "id": "27e86d35-365f-4d71-8969-c6b5da209eb2",
   "metadata": {},
   "source": [
    "##### Final step we build a function that generates ngram sentences"
   ]
  },
  {
   "cell_type": "code",
   "execution_count": 15,
   "id": "6344cdb6-fe85-4c67-aeb4-cc6c777210db",
   "metadata": {},
   "outputs": [],
   "source": [
    "def getNGramSentenceRandom(gram, word, n=50):\n",
    "    for i in range(n):\n",
    "        print(word, end=' ')\n",
    "        # Get all possible elements ((first word, second word), frequency)\n",
    "        choices = [element for element in gram if element[0][0] == word]\n",
    "        if not choices:\n",
    "            break\n",
    "        word = weighted_choice(choices)[1]"
   ]
  },
  {
   "cell_type": "markdown",
   "id": "28709897-a8f4-4122-be95-0362a6e8e13a",
   "metadata": {},
   "source": [
    "##### Testing it out."
   ]
  },
  {
   "cell_type": "code",
   "execution_count": 16,
   "id": "f5ce9bd6-995d-4c4a-8e63-050324a7eaed",
   "metadata": {},
   "outputs": [
    {
     "name": "stdout",
     "output_type": "stream",
     "text": [
      "\n",
      "Generating 2-gram list... Done\n",
      "\n",
      "  2-Gram:   পুলিশ অফিসারের হেসে বলল রবিন মুসা কানে প্রতিধ্বনির মত সাগরের পটভূমিতে বিশাল এক লোক মি. বগি এক গুঁড়ির গায়ে গাঢ় বাদামী চেহারাটা দেখতে একইরকম দড়ির চাপে পড়ে গেছে ডাক্তারের কাছে \n",
      "\n",
      "  2-Gram:   ভাল আছি’ বলল মনে হলো নইলে প্রফেসারি ছেড়ে ভ্রূ দেখাল হাসিটা মুছে তাকাল মুসা সবার মুখের দিকে একদৃষ্টে তাঁর সঙ্গে যুক্ত হয়েছে আম্মু আম্মু’ ‘এখনও জিনিসটা পরীক্ষা করল একবার আমাজন \n",
      "\n",
      "  2-Gram:   কীরকম পিনপতন নীরবতা ভেঙে উঠে কিটির অলক্ষে ছবি ভাল মেয়ে কোন মানে পারিবারিক কৌতুক কিন্তু কী কিশোর জেরিকে ঢুকিয়ে জোরে একটা ফায়ার এসকেপ দিয়ে ঠাহর করার নেই সেরকম আজ শনিবার \n",
      "\n",
      "  2-Gram:   নিজের ওপর খরচ করেছে এ ঘরে এসে তুলে সোজা হলো দুজনে পাখি ঠিক করছে কাঁধ চেপে ধরে টানল এসো আমরা যখন দেখল আগুনটা দুই হাত তুলে তাকাল সবাই ডাইনিং রুম \n",
      "\n",
      "\n",
      "Generating 3-gram list... Done\n",
      "\n",
      "  3-Gram:   নিচ্ছে ও হাঁপিয়ে গেছে কৌতূহল বেড়ে গেল তবে মনে হলো কাঁপা হাতে কী’ ‘অ্যালিগেইটরের বাসা’ চিনতে পারল না বলে সবাই জেনে নাওগে আমার নেই’ বলল ‘মরিসের বোটটা ডুবিয়ে দিয়েছে মিসেস \n",
      "\n",
      "  3-Gram:   আছে এই সংবাদটুকু ছাড়া আর ডানা ‘কী ঘটছে’ ‘কী আছে টনি আমার নামে পরিচিত হয়ে গেছে মনে হয় জ্বরও আসছে অর্ডার দিয়েছে উদ্ধার পাওয়া যায় পানি পেটে একটা মুহূর্ত চিন্তা \n",
      "\n",
      "  3-Gram:   জলদি বলল জ্যাক বলল জ্যাক ওদের দিকে তাকাতে দেখেছে ও মরে যাওয়া যেন সায় জানাল দীর্ঘ হচ্ছে ওর গায়ে কাঁটা দিল জানি যেকোন সময় ভুল নেই ‘দেখুন কীভাবে আর বদলাতে \n",
      "\n",
      "  3-Gram:   কাজিনের জন্মদিন’ মহিলাকে বললাম আমি তো দেখছি না যেভাবেই হোক উদ্ধার পাওয়ার চলে যাওয়াটা কি করতে ইচ্ছে হলো বাঁচার জন্যে তৈরি নতুন অ্যাপার্টমেন্ট কমপ্লেক্সে থাকে ক্রিসি ওকে এগোতে দেবে ওর \n",
      "\n",
      "\n",
      "Generating 4-gram list... Done\n",
      "\n",
      "  4-Gram:   যজ্ঞ অনুষ্ঠানকালে শ্রীকৃষ্ণ তাঁহার পূর্ব্বেই যে দিনেদুপুরে গাড়িচাপা দিয়ে বেরোনো লাল ইটের তৈরি সারং স্কার্ট পরনে কালো হয়ে পায়ের ছাপগুলো চেনা লাগছিল সোজা বাংলোর কোনার দিকে চাইল না মুসা ‘কুমির \n",
      "\n",
      "  4-Gram:   ভাজ করা বিকিনি টপ ঝাঁকি দিয়ে যাওয়ার সময় ফোনের পাশে সামলাতে পারব শুনলেন মরগ্যান লে ফে রাজা বাহুবলে সেই পথটা ধরে আছেন মিস্টার সেভারনের আরও জোরে পানিতে কি বললে পাগল \n",
      "\n",
      "  4-Gram:   সভ্যতা বৃদ্ধির আরও কয়েকজন মানুষ আমাকে নিশানা রেখেছিল হঠাৎ ঝাঁপিয়ে পড়লে মানুষকে ঠেলে দিল রবিন বলল কিশোর আর আমরা পুলিশ ডিপার্টমেন্টে ফোন করবে এটা ভূত এসে দাঁড়াল রাস্টি ‘এক…দুই…তিন’ ‘দুজনে \n",
      "\n",
      "  4-Gram:   কোল বাংকারে ছোট এক দিকের একটা কথা বলল রবিন এমনভাবে ফিসফিস করে আনল এক দরজা ঠাণ্ডা বাতাসের ধাক্কায় ক্লাসরুমের দোরগোড়ায় দাঁড়িয়ে থাকতে পারছিল না নাকি ঠাণ্ডা ভারী হয়ে পড়ে থাকতে \n",
      "\n",
      "\n",
      "Generating 5-gram list... Done\n",
      "\n",
      "  5-Gram:   এই সময় ভূতের দম বন্ধ করে আনল কাঠির মত লাগছে মনে হা মনে হয় না ক্যাবিনেটে এক টুকরো টুকরো কাগজ দেখলে কেমন কাটছে ‘কোন্ প্রাণী বেছে নাও’ বলে ডিনার করবে’ \n",
      "\n",
      "  5-Gram:   ‘তবে এ আগুন নেভানোর জন্যে চিন্তা করবেন না স্বস্তির নিঃশ্বাস ফেলল মুসা স্পেয়ার টায়ার ফেটেছে মনে মনে হয় বেশি ঘনিষ্ঠতা ছিল ওয়ারনার পরিবারের দায়িত্ব ওর হাতে বন্দি বলে রকি বীচে \n",
      "\n",
      "  5-Gram:   নেই কোথায় তুমি গিয়ে যে কি বললে বিশ্বাস হচ্ছে আমাকে বিখ্যাত গোয়েন্দা পথ আটকানোর চেষ্টা করলাম ‘আমার মনে মনে পড়ল মুসার কাছে মাটি দেখেছি’ মুসা ফোন করল সে ভ্যাম্পায়ারের কথা \n",
      "\n",
      "  5-Gram:   না যদি চব্বিশ ঘণ্টা পড়ে বলে বাজার করা যাবেই মহিলাকেও জেলের ভাত বন্ধ করে সিঁড়ি ধরে নাড়া দিল কিশোর বলল মুসা ‘মুসা যখন তখন সবাই শপিং মলে যাওয়া হবে আর \n",
      "\n",
      "\n",
      "Generating 6-gram list... Done\n",
      "\n",
      "  6-Gram:   থেকে পেটে খামচি ধরা দুঃস্বপ্ন আর কমলা রঙ মোমের মত দাঁড়িয়ে ওপর চাপ বাড়াচ্ছে বরং তারাও সাহায্য দরকার রবিন ঘুম ভাঙল মুসা এ রকম গন্ধ জিজ্ঞেস করলেন শাহানা আক্তার কিছু \n",
      "\n",
      "  6-Gram:   যদি ঢুকতেই দরজা দিয়ে পানি ছেড়ে পালাব মিস্টার নিউরোন ক্লডিয়ার মতই আগের রূপালী ফিতের মত শহরে যেখানেই যাই মিসেস ব্রেক কে আমি ওঁর নাম আছে তাঁর তবু অবাক হলো মূর্তিটার \n",
      "\n",
      "  6-Gram:   যেন এই সময় নেই রিকিরও কোন ধরনের ঘরই হোক না ওগুলোই তুলব বাবার কাছে’ ‘আমার কাছে নিয়ে গেছে টুইন সাইপ্রেসকী’র একটা শর্টওয়েভ রেডিওতে রাস্টি ‘এক…দুই…তিন’ ‘দুজনে একসঙ্গে’ কিশোর বলল কিশোর \n",
      "\n",
      "  6-Gram:   স্বাভাবিক রাখার উকটা থেকে লোগো সবই উদ্ধার পাওয়ার সঙ্গে চলছে এসকেলেটর আমাকে নিয়ে গেল কিশোর বলল পুরানো তবে মহিলা জিনাও তাকিয়ে বললেন প্রফেসর আসলে কি রবিন টেরেসা নানু ওয়ালেটটা নিয়ে \n",
      "\n",
      "\n",
      "Generating 7-gram list... Done\n",
      "\n",
      "  7-Gram:   নিল বিল আর কেউ টর্চের আলো কোন চিঠিটিঠি লেখেনি রবিনকে জানাল ‘তা হলে এর পেছনে লিভিংরূমে ঢুকে গেল রবিন কোকের বোতল একটাতে সেই শব্দ করে এতক্ষণ কিশোর মরার ইচ্ছে করছে \n",
      "\n",
      "  7-Gram:   কিছু কেনাকাটাও আছে মেঝেতে ‘কী গুজব’ ‘ইয়ারুনারা বলে সেটাই ভাবছে এখান থেকে বেরিয়ে গেল রবিনের একটু ঘুরে দাঁড়িয়ে আছি এলিভেটরকার থেকে টেপটা ধীরে প্যাডল ঘোরানো শুরু করল অগ্নিকুণ্ডের অন্যপাশে বুদের \n",
      "\n",
      "  7-Gram:   যেদিকে গেছেন আপনি’ জিজ্ঞেস করেননি ঘণ্টা পড়ে গেল ওই ভ্যানে বিচিত্র সব শাজিনের অফিসের দিকে চেয়ে স্মিত হাসি দিয়ে ভেসে রয়েছে ডালপালা থেকে লাফিয়ে নামল একজন নিশ্চয় দাঁতকপাটি লেগে ফসকে \n",
      "\n",
      "  7-Gram:   গিলল ড্যানি যে মিস্টার সেভারন আপনার হ্যাট তুলে ধরল ফায়েজা ‘গাছই আমাকে এই গুরুতর কালশিটে পড়ে যায় একজন ডাকাতেরও লাশ সবই মৌমাছির সমান করতে হবে হয়তো বসিয়ে এসেছে আমরা যতক্ষণ \n",
      "\n",
      "\n",
      "Generating 8-gram list... Done\n",
      "\n",
      "  8-Gram:   আরেকজন দুজনেই মিথ্যুক আমাদের মুসা আবার পথের ওপর লেখা ওল্ড প্যাসিফিক কাউন্টি প্রিজন মানে আমি বাধা দিয়ে জানা মানুষ বঞ্চিত করছে জন একটা কথা শুনে প্রথমে এল মুসার চিৎকারে ফিরে \n",
      "\n",
      "  8-Gram:   ধরল কণ্ঠ বিকেলের আলোয় ঝিকঝিক করছে কালো হয়ে যাবে কি না এ ছাড়াও জাগুয়ার খেয়ে খেয়ে ঘুরে বেড়ায় হেলান দিয়ে যেন চেঁচিয়ে উঠল চলে গেল তাকে সরিয়ে নিল টাকা ভাঙতি \n",
      "\n",
      "  8-Gram:   করে নোটবই বের করতে জ্যোতিষ হওয়া তো বলছি না যাওয়ার সময় নেই মুখে সম্ভবত কোন সন্দেহ করবে সবারই কষ্ট…কিন্তু তোমার ভালমন্দ কিছু বলার মত এঁকেবেঁকে চলে এল মুসা কোনভাবে যদি \n",
      "\n",
      "  8-Gram:   বেশি সত্যি দেখতে ইচ্ছে করল রবিন মুখ ডেকে বেরোনোর আগে কখনও কখনও স্কুলে রেইন কোট আর সঠিক নির্ণয় করিয়া লিখিয়াছেন যে গাছ জানালা দিয়ে মিসেস রাফাত তবে ভ্যানের ছাতে চড়ে \n",
      "\n",
      "\n",
      "Generating 9-gram list... Done\n",
      "\n",
      "  9-Gram:   গিয়ে রীতিমত ভাপ উঠছে একটা করে রানার এর মধ্যে রুবিনা’স হট ডগ চেহারায় ‘ব্রঙ্কোরাইডিং প্রতিযোগিতায় চলে আসতে চাইছে না একটা চোরের ভয়ে চিৎকার তোলার জন্য কী করে উঠল ‘আরে কোথায় \n",
      "\n",
      "  9-Gram:   কী করছেন’ অতিকায় সব জানাল আরেক পাশ কাটিয়ে সন্ধ্যায় সৈকত ঝলমলে দিন একতিরিশ তারিখেই বাড়ি গিয়ে একটা জবাব দিল হুশ প্লেটগুলোর নীচ দিয়ে কিছুই বুঝতে পারছি না না স্কারপিনির পাশ \n",
      "\n",
      "  9-Gram:   ক্রিসি আমি আর রবিনের কাছে ঝুঁকে রয়েছে কিলার তো মাথা তুলল কিশোর সেভারনের কাতর কণ্ঠ অবাক করে কেন ও ‘খাইছে আমাদেরকে ওঁর মুখের চেহারা থেকে তো ভয়ের নাকি আস্তে কথা \n",
      "\n",
      "  9-Gram:   পড়ল মোড়ের কাছ থেকে আর কিশোর এখনও পুরো দু’দিন পেয়েছি’ বলল ‘ওই যে কোন দিন গোলাম তিনটে কোকের জন্য ছুটে আসে তাদের বাচ্চাদের ছুটোছুটি করা যায় আমার’ ‘না কিন্তু বাইরে \n",
      "\n"
     ]
    }
   ],
   "source": [
    "for n in range(2, 10):\n",
    "    # Generate ngram list\n",
    "    print()\n",
    "    print(f\"Generating {n}-gram list...\", end=' ')\n",
    "    ngram = generateNgram(n)\n",
    "    print(\"Done\")\n",
    "    \n",
    "    print(\"\")\n",
    "    \n",
    "    # Try out a bunch of sentences\n",
    "    for i in range(4):\n",
    "        word = radominitword()\n",
    "        print(f\"  {n}-Gram:  \", end=' ')\n",
    "        getNGramSentenceRandom(ngram, word, 30)\n",
    "        print(\"\")\n",
    "        print(\"\")\n",
    "        "
   ]
  }
 ],
 "metadata": {
  "kernelspec": {
   "display_name": "Python 3 (ipykernel)",
   "language": "python",
   "name": "python3"
  },
  "language_info": {
   "codemirror_mode": {
    "name": "ipython",
    "version": 3
   },
   "file_extension": ".py",
   "mimetype": "text/x-python",
   "name": "python",
   "nbconvert_exporter": "python",
   "pygments_lexer": "ipython3",
   "version": "3.9.12"
  }
 },
 "nbformat": 4,
 "nbformat_minor": 5
}
